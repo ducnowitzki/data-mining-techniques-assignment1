{
 "cells": [
  {
   "cell_type": "code",
   "id": "initial_id",
   "metadata": {
    "collapsed": true,
    "ExecuteTime": {
     "end_time": "2024-04-09T13:05:24.084452Z",
     "start_time": "2024-04-09T13:05:17.218631Z"
    }
   },
   "source": [
    "import pandas as pd"
   ],
   "outputs": [],
   "execution_count": 2
  },
  {
   "metadata": {
    "ExecuteTime": {
     "end_time": "2024-04-09T11:14:40.264300Z",
     "start_time": "2024-04-09T11:14:39.920103Z"
    }
   },
   "cell_type": "code",
   "source": [
    "data = pd.read_csv(\"datasets/dataset_mood_smartphone.csv\", sep=\",\", encoding=\"utf-8\")"
   ],
   "id": "74b5684524d358de",
   "outputs": [],
   "execution_count": 4
  },
  {
   "metadata": {
    "ExecuteTime": {
     "end_time": "2024-04-09T11:14:42.039512Z",
     "start_time": "2024-04-09T11:14:42.027748Z"
    }
   },
   "cell_type": "code",
   "source": [
    "data.head()"
   ],
   "id": "a85ea0d449b9da1e",
   "outputs": [
    {
     "data": {
      "text/plain": "   Unnamed: 0       id                     time variable  value\n0           1  AS14.01  2014-02-26 13:00:00.000     mood    6.0\n1           2  AS14.01  2014-02-26 15:00:00.000     mood    6.0\n2           3  AS14.01  2014-02-26 18:00:00.000     mood    6.0\n3           4  AS14.01  2014-02-26 21:00:00.000     mood    7.0\n4           5  AS14.01  2014-02-27 09:00:00.000     mood    6.0",
      "text/html": "<div>\n<style scoped>\n    .dataframe tbody tr th:only-of-type {\n        vertical-align: middle;\n    }\n\n    .dataframe tbody tr th {\n        vertical-align: top;\n    }\n\n    .dataframe thead th {\n        text-align: right;\n    }\n</style>\n<table border=\"1\" class=\"dataframe\">\n  <thead>\n    <tr style=\"text-align: right;\">\n      <th></th>\n      <th>Unnamed: 0</th>\n      <th>id</th>\n      <th>time</th>\n      <th>variable</th>\n      <th>value</th>\n    </tr>\n  </thead>\n  <tbody>\n    <tr>\n      <th>0</th>\n      <td>1</td>\n      <td>AS14.01</td>\n      <td>2014-02-26 13:00:00.000</td>\n      <td>mood</td>\n      <td>6.0</td>\n    </tr>\n    <tr>\n      <th>1</th>\n      <td>2</td>\n      <td>AS14.01</td>\n      <td>2014-02-26 15:00:00.000</td>\n      <td>mood</td>\n      <td>6.0</td>\n    </tr>\n    <tr>\n      <th>2</th>\n      <td>3</td>\n      <td>AS14.01</td>\n      <td>2014-02-26 18:00:00.000</td>\n      <td>mood</td>\n      <td>6.0</td>\n    </tr>\n    <tr>\n      <th>3</th>\n      <td>4</td>\n      <td>AS14.01</td>\n      <td>2014-02-26 21:00:00.000</td>\n      <td>mood</td>\n      <td>7.0</td>\n    </tr>\n    <tr>\n      <th>4</th>\n      <td>5</td>\n      <td>AS14.01</td>\n      <td>2014-02-27 09:00:00.000</td>\n      <td>mood</td>\n      <td>6.0</td>\n    </tr>\n  </tbody>\n</table>\n</div>"
     },
     "execution_count": 5,
     "metadata": {},
     "output_type": "execute_result"
    }
   ],
   "execution_count": 5
  },
  {
   "metadata": {
    "ExecuteTime": {
     "end_time": "2024-04-09T11:42:03.844138Z",
     "start_time": "2024-04-09T11:42:03.801510Z"
    }
   },
   "cell_type": "code",
   "source": [
    "column_names = list(set(data.variable))"
   ],
   "id": "4349fbb6b5abef50",
   "outputs": [],
   "execution_count": 11
  },
  {
   "metadata": {
    "ExecuteTime": {
     "end_time": "2024-04-09T11:42:04.005458Z",
     "start_time": "2024-04-09T11:42:04.002546Z"
    }
   },
   "cell_type": "code",
   "source": [
    "column_names.remove(\"mood\")"
   ],
   "id": "ced02a907d788d7e",
   "outputs": [],
   "execution_count": 12
  },
  {
   "metadata": {
    "ExecuteTime": {
     "end_time": "2024-04-09T11:42:04.242477Z",
     "start_time": "2024-04-09T11:42:04.239912Z"
    }
   },
   "cell_type": "code",
   "source": [
    "column_names = [\"id\", \"time\", \"mood\"] + column_names"
   ],
   "id": "84882b5f406bbe16",
   "outputs": [],
   "execution_count": 13
  },
  {
   "metadata": {
    "ExecuteTime": {
     "end_time": "2024-04-09T11:42:04.716443Z",
     "start_time": "2024-04-09T11:42:04.710483Z"
    }
   },
   "cell_type": "code",
   "source": [
    "column_names"
   ],
   "id": "48c002f87b23ab5f",
   "outputs": [
    {
     "data": {
      "text/plain": "['id',\n 'time',\n 'mood',\n 'circumplex.valence',\n 'appCat.office',\n 'appCat.weather',\n 'call',\n 'appCat.other',\n 'screen',\n 'appCat.utilities',\n 'activity',\n 'appCat.communication',\n 'appCat.unknown',\n 'appCat.social',\n 'circumplex.arousal',\n 'appCat.entertainment',\n 'appCat.finance',\n 'appCat.game',\n 'sms',\n 'appCat.builtin',\n 'appCat.travel']"
     },
     "execution_count": 14,
     "metadata": {},
     "output_type": "execute_result"
    }
   ],
   "execution_count": 14
  },
  {
   "metadata": {
    "ExecuteTime": {
     "end_time": "2024-04-09T13:04:17.745476Z",
     "start_time": "2024-04-09T13:04:17.728755Z"
    }
   },
   "cell_type": "code",
   "source": [
    "dataset = pd.DataFrame(columns=column_names)"
   ],
   "id": "abeb4ffd1c14b434",
   "outputs": [],
   "execution_count": 29
  },
  {
   "cell_type": "code",
   "outputs": [
    {
     "data": {
      "text/plain": "(5641, 5)"
     },
     "execution_count": 16,
     "metadata": {},
     "output_type": "execute_result"
    }
   ],
   "source": [
    "data[data[\"variable\"] == \"mood\"].shape"
   ],
   "metadata": {
    "collapsed": false,
    "ExecuteTime": {
     "end_time": "2024-04-09T11:42:17.761756Z",
     "start_time": "2024-04-09T11:42:17.468461Z"
    }
   },
   "id": "8f860468d17ddd7c",
   "execution_count": 16
  },
  {
   "metadata": {
    "ExecuteTime": {
     "end_time": "2024-04-09T13:03:51.151627Z",
     "start_time": "2024-04-09T13:03:51.118561Z"
    }
   },
   "cell_type": "code",
   "source": [
    "for row in data[data[\"variable\"] == \"mood\"].itertuples():\n",
    "    dataset.loc[len(dataset)] = {\n",
    "        'id': row.id,\n",
    "        'time': row.time,\n",
    "        'mood': row.value,\n",
    "        'appCat.other': 0.0,\n",
    "        'appCat.weather': 0.0,\n",
    "        'circumplex.valence': 0.0,\n",
    "        'circumplex.arousal': 0.0,\n",
    "        'appCat.entertainment': 0.0,\n",
    "        'appCat.finance': 0.0,\n",
    "        'appCat.social': 0.0,\n",
    "        'appCat.game': 0.0,\n",
    "        'appCat.builtin': 0.0,\n",
    "        'appCat.communication': 0.0,\n",
    "        'call': 0.0,\n",
    "        'screen': 0.0,\n",
    "        'appCat.unknown': 0.0,\n",
    "        'activity': 0.0,\n",
    "        'appCat.travel': 0.0,\n",
    "        'appCat.office': 0.0,\n",
    "        'appCat.utilities': 0.0,\n",
    "        'sms': 0.0,\n",
    "    }"
   ],
   "id": "cba592ea19d4275b",
   "outputs": [],
   "execution_count": 26
  },
  {
   "metadata": {
    "ExecuteTime": {
     "end_time": "2024-04-09T13:03:58.399884Z",
     "start_time": "2024-04-09T13:03:58.356758Z"
    }
   },
   "cell_type": "code",
   "source": [
    "dataset.head()"
   ],
   "id": "88a9e266ecdfa24c",
   "outputs": [
    {
     "data": {
      "text/plain": "        id                time  mood  circumplex.valence  appCat.office  \\\n0  AS14.01 2014-02-26 13:00:00   6.0                 0.0            0.0   \n1  AS14.01 2014-02-26 15:00:00   6.0                 1.0            0.0   \n2  AS14.01 2014-02-26 18:00:00   6.0                 1.0            0.0   \n3  AS14.01 2014-02-26 21:00:00   7.0                 1.0            0.0   \n4  AS14.01 2014-02-27 09:00:00   6.0                 0.0            0.0   \n\n   appCat.weather  call  appCat.other  screen  appCat.utilities  ...  \\\n0             0.0  17.0           0.0     0.0               0.0  ...   \n1             0.0   0.0           0.0     0.0               0.0  ...   \n2             0.0   0.0           0.0     0.0               0.0  ...   \n3             0.0   1.0           0.0     0.0               0.0  ...   \n4             0.0   0.0           0.0     0.0               0.0  ...   \n\n   appCat.communication  appCat.unknown  appCat.social  circumplex.arousal  \\\n0                   0.0             0.0            0.0                -1.0   \n1                   0.0             0.0            0.0                -1.0   \n2                   0.0             0.0            0.0                 0.0   \n3                   0.0             0.0            0.0                 1.0   \n4                   0.0             0.0            0.0                -2.0   \n\n   appCat.entertainment  appCat.finance  appCat.game  sms  appCat.builtin  \\\n0                   0.0             0.0          0.0  7.0             0.0   \n1                   0.0             0.0          0.0  0.0             0.0   \n2                   0.0             0.0          0.0  1.0             0.0   \n3                   0.0             0.0          0.0  0.0             0.0   \n4                   0.0             0.0          0.0  1.0             0.0   \n\n   appCat.travel  \n0            0.0  \n1            0.0  \n2            0.0  \n3            0.0  \n4            0.0  \n\n[5 rows x 21 columns]",
      "text/html": "<div>\n<style scoped>\n    .dataframe tbody tr th:only-of-type {\n        vertical-align: middle;\n    }\n\n    .dataframe tbody tr th {\n        vertical-align: top;\n    }\n\n    .dataframe thead th {\n        text-align: right;\n    }\n</style>\n<table border=\"1\" class=\"dataframe\">\n  <thead>\n    <tr style=\"text-align: right;\">\n      <th></th>\n      <th>id</th>\n      <th>time</th>\n      <th>mood</th>\n      <th>circumplex.valence</th>\n      <th>appCat.office</th>\n      <th>appCat.weather</th>\n      <th>call</th>\n      <th>appCat.other</th>\n      <th>screen</th>\n      <th>appCat.utilities</th>\n      <th>...</th>\n      <th>appCat.communication</th>\n      <th>appCat.unknown</th>\n      <th>appCat.social</th>\n      <th>circumplex.arousal</th>\n      <th>appCat.entertainment</th>\n      <th>appCat.finance</th>\n      <th>appCat.game</th>\n      <th>sms</th>\n      <th>appCat.builtin</th>\n      <th>appCat.travel</th>\n    </tr>\n  </thead>\n  <tbody>\n    <tr>\n      <th>0</th>\n      <td>AS14.01</td>\n      <td>2014-02-26 13:00:00</td>\n      <td>6.0</td>\n      <td>0.0</td>\n      <td>0.0</td>\n      <td>0.0</td>\n      <td>17.0</td>\n      <td>0.0</td>\n      <td>0.0</td>\n      <td>0.0</td>\n      <td>...</td>\n      <td>0.0</td>\n      <td>0.0</td>\n      <td>0.0</td>\n      <td>-1.0</td>\n      <td>0.0</td>\n      <td>0.0</td>\n      <td>0.0</td>\n      <td>7.0</td>\n      <td>0.0</td>\n      <td>0.0</td>\n    </tr>\n    <tr>\n      <th>1</th>\n      <td>AS14.01</td>\n      <td>2014-02-26 15:00:00</td>\n      <td>6.0</td>\n      <td>1.0</td>\n      <td>0.0</td>\n      <td>0.0</td>\n      <td>0.0</td>\n      <td>0.0</td>\n      <td>0.0</td>\n      <td>0.0</td>\n      <td>...</td>\n      <td>0.0</td>\n      <td>0.0</td>\n      <td>0.0</td>\n      <td>-1.0</td>\n      <td>0.0</td>\n      <td>0.0</td>\n      <td>0.0</td>\n      <td>0.0</td>\n      <td>0.0</td>\n      <td>0.0</td>\n    </tr>\n    <tr>\n      <th>2</th>\n      <td>AS14.01</td>\n      <td>2014-02-26 18:00:00</td>\n      <td>6.0</td>\n      <td>1.0</td>\n      <td>0.0</td>\n      <td>0.0</td>\n      <td>0.0</td>\n      <td>0.0</td>\n      <td>0.0</td>\n      <td>0.0</td>\n      <td>...</td>\n      <td>0.0</td>\n      <td>0.0</td>\n      <td>0.0</td>\n      <td>0.0</td>\n      <td>0.0</td>\n      <td>0.0</td>\n      <td>0.0</td>\n      <td>1.0</td>\n      <td>0.0</td>\n      <td>0.0</td>\n    </tr>\n    <tr>\n      <th>3</th>\n      <td>AS14.01</td>\n      <td>2014-02-26 21:00:00</td>\n      <td>7.0</td>\n      <td>1.0</td>\n      <td>0.0</td>\n      <td>0.0</td>\n      <td>1.0</td>\n      <td>0.0</td>\n      <td>0.0</td>\n      <td>0.0</td>\n      <td>...</td>\n      <td>0.0</td>\n      <td>0.0</td>\n      <td>0.0</td>\n      <td>1.0</td>\n      <td>0.0</td>\n      <td>0.0</td>\n      <td>0.0</td>\n      <td>0.0</td>\n      <td>0.0</td>\n      <td>0.0</td>\n    </tr>\n    <tr>\n      <th>4</th>\n      <td>AS14.01</td>\n      <td>2014-02-27 09:00:00</td>\n      <td>6.0</td>\n      <td>0.0</td>\n      <td>0.0</td>\n      <td>0.0</td>\n      <td>0.0</td>\n      <td>0.0</td>\n      <td>0.0</td>\n      <td>0.0</td>\n      <td>...</td>\n      <td>0.0</td>\n      <td>0.0</td>\n      <td>0.0</td>\n      <td>-2.0</td>\n      <td>0.0</td>\n      <td>0.0</td>\n      <td>0.0</td>\n      <td>1.0</td>\n      <td>0.0</td>\n      <td>0.0</td>\n    </tr>\n  </tbody>\n</table>\n<p>5 rows × 21 columns</p>\n</div>"
     },
     "execution_count": 28,
     "metadata": {},
     "output_type": "execute_result"
    }
   ],
   "execution_count": 28
  },
  {
   "metadata": {
    "ExecuteTime": {
     "end_time": "2024-04-09T13:02:47.483197Z",
     "start_time": "2024-04-09T13:02:47.397753Z"
    }
   },
   "cell_type": "code",
   "source": [
    "data = data.loc[data[\"variable\"] != \"mood\"]"
   ],
   "id": "d7646d6a5a0c2042",
   "outputs": [],
   "execution_count": 20
  },
  {
   "metadata": {
    "ExecuteTime": {
     "end_time": "2024-04-09T13:02:47.630892Z",
     "start_time": "2024-04-09T13:02:47.621331Z"
    }
   },
   "cell_type": "code",
   "source": [
    "data"
   ],
   "id": "93320f4ab0c1fcd1",
   "outputs": [
    {
     "data": {
      "text/plain": "        Unnamed: 0       id                     time            variable  \\\n6223          6224  AS14.03  2014-05-02 19:00:00.000  circumplex.arousal   \n6224          6225  AS14.03  2014-05-02 21:00:00.000  circumplex.arousal   \n6225          6226  AS14.03  2014-05-03 11:00:00.000  circumplex.arousal   \n6226          6227  AS14.03  2014-05-03 11:00:00.000  circumplex.arousal   \n6227          6228  AS14.03  2014-05-03 15:00:00.000  circumplex.arousal   \n...            ...      ...                      ...                 ...   \n376907     2770399  AS14.30  2014-04-11 07:51:16.948      appCat.weather   \n376908     2772465  AS14.30  2014-04-19 11:00:32.747      appCat.weather   \n376909     2774026  AS14.30  2014-04-26 10:19:07.434      appCat.weather   \n376910     2774133  AS14.30  2014-04-27 00:44:48.450      appCat.weather   \n376911     2784435  AS14.32  2014-04-07 18:25:14.036      appCat.weather   \n\n         value  \n6223    -2.000  \n6224    -1.000  \n6225     0.000  \n6226    -1.000  \n6227    -1.000  \n...        ...  \n376907   8.032  \n376908   3.008  \n376909   7.026  \n376910  23.033  \n376911  22.431  \n\n[322556 rows x 5 columns]",
      "text/html": "<div>\n<style scoped>\n    .dataframe tbody tr th:only-of-type {\n        vertical-align: middle;\n    }\n\n    .dataframe tbody tr th {\n        vertical-align: top;\n    }\n\n    .dataframe thead th {\n        text-align: right;\n    }\n</style>\n<table border=\"1\" class=\"dataframe\">\n  <thead>\n    <tr style=\"text-align: right;\">\n      <th></th>\n      <th>Unnamed: 0</th>\n      <th>id</th>\n      <th>time</th>\n      <th>variable</th>\n      <th>value</th>\n    </tr>\n  </thead>\n  <tbody>\n    <tr>\n      <th>6223</th>\n      <td>6224</td>\n      <td>AS14.03</td>\n      <td>2014-05-02 19:00:00.000</td>\n      <td>circumplex.arousal</td>\n      <td>-2.000</td>\n    </tr>\n    <tr>\n      <th>6224</th>\n      <td>6225</td>\n      <td>AS14.03</td>\n      <td>2014-05-02 21:00:00.000</td>\n      <td>circumplex.arousal</td>\n      <td>-1.000</td>\n    </tr>\n    <tr>\n      <th>6225</th>\n      <td>6226</td>\n      <td>AS14.03</td>\n      <td>2014-05-03 11:00:00.000</td>\n      <td>circumplex.arousal</td>\n      <td>0.000</td>\n    </tr>\n    <tr>\n      <th>6226</th>\n      <td>6227</td>\n      <td>AS14.03</td>\n      <td>2014-05-03 11:00:00.000</td>\n      <td>circumplex.arousal</td>\n      <td>-1.000</td>\n    </tr>\n    <tr>\n      <th>6227</th>\n      <td>6228</td>\n      <td>AS14.03</td>\n      <td>2014-05-03 15:00:00.000</td>\n      <td>circumplex.arousal</td>\n      <td>-1.000</td>\n    </tr>\n    <tr>\n      <th>...</th>\n      <td>...</td>\n      <td>...</td>\n      <td>...</td>\n      <td>...</td>\n      <td>...</td>\n    </tr>\n    <tr>\n      <th>376907</th>\n      <td>2770399</td>\n      <td>AS14.30</td>\n      <td>2014-04-11 07:51:16.948</td>\n      <td>appCat.weather</td>\n      <td>8.032</td>\n    </tr>\n    <tr>\n      <th>376908</th>\n      <td>2772465</td>\n      <td>AS14.30</td>\n      <td>2014-04-19 11:00:32.747</td>\n      <td>appCat.weather</td>\n      <td>3.008</td>\n    </tr>\n    <tr>\n      <th>376909</th>\n      <td>2774026</td>\n      <td>AS14.30</td>\n      <td>2014-04-26 10:19:07.434</td>\n      <td>appCat.weather</td>\n      <td>7.026</td>\n    </tr>\n    <tr>\n      <th>376910</th>\n      <td>2774133</td>\n      <td>AS14.30</td>\n      <td>2014-04-27 00:44:48.450</td>\n      <td>appCat.weather</td>\n      <td>23.033</td>\n    </tr>\n    <tr>\n      <th>376911</th>\n      <td>2784435</td>\n      <td>AS14.32</td>\n      <td>2014-04-07 18:25:14.036</td>\n      <td>appCat.weather</td>\n      <td>22.431</td>\n    </tr>\n  </tbody>\n</table>\n<p>322556 rows × 5 columns</p>\n</div>"
     },
     "execution_count": 21,
     "metadata": {},
     "output_type": "execute_result"
    }
   ],
   "execution_count": 21
  },
  {
   "metadata": {
    "ExecuteTime": {
     "end_time": "2024-04-09T13:02:49.199526Z",
     "start_time": "2024-04-09T13:02:49.013857Z"
    }
   },
   "cell_type": "code",
   "source": [
    "data['time'] = pd.to_datetime(data['time'])\n",
    "dataset['time'] = pd.to_datetime(dataset['time'])"
   ],
   "id": "da7efce5fcae7320",
   "outputs": [],
   "execution_count": 22
  },
  {
   "metadata": {
    "ExecuteTime": {
     "end_time": "2024-04-09T13:02:49.367561Z",
     "start_time": "2024-04-09T13:02:49.356216Z"
    }
   },
   "cell_type": "code",
   "source": [
    "dataset = dataset.sort_values(by=['id','time']).reset_index()\n",
    "dataset.drop(['index'], axis=1, inplace=True)"
   ],
   "id": "599d4f377d9eeedf",
   "outputs": [],
   "execution_count": 23
  },
  {
   "metadata": {
    "ExecuteTime": {
     "end_time": "2024-04-09T13:02:53.359613Z",
     "start_time": "2024-04-09T13:02:53.313866Z"
    }
   },
   "cell_type": "code",
   "source": [
    "dataset"
   ],
   "id": "2c0a1b180843fc6d",
   "outputs": [
    {
     "data": {
      "text/plain": "           id                time  mood  circumplex.valence  appCat.office  \\\n0     AS14.01 2014-02-26 13:00:00   6.0                 0.0            0.0   \n1     AS14.01 2014-02-26 15:00:00   6.0                 1.0            0.0   \n2     AS14.01 2014-02-26 18:00:00   6.0                 1.0            0.0   \n3     AS14.01 2014-02-26 21:00:00   7.0                 1.0            0.0   \n4     AS14.01 2014-02-27 09:00:00   6.0                 0.0            0.0   \n...       ...                 ...   ...                 ...            ...   \n5636  AS14.33 2014-05-30 09:00:00   8.0                 0.0            0.0   \n5637  AS14.33 2014-05-30 13:00:00   6.0                 0.0            0.0   \n5638  AS14.33 2014-05-30 19:00:00   8.0                 0.0            0.0   \n5639  AS14.33 2014-05-30 20:00:00   6.0                 0.0            0.0   \n5640  AS14.33 2014-05-31 12:00:00   7.0                 0.0            0.0   \n\n      appCat.weather  call  appCat.other  screen  appCat.utilities  ...  \\\n0                0.0  17.0           0.0     0.0               0.0  ...   \n1                0.0   0.0           0.0     0.0               0.0  ...   \n2                0.0   0.0           0.0     0.0               0.0  ...   \n3                0.0   1.0           0.0     0.0               0.0  ...   \n4                0.0   0.0           0.0     0.0               0.0  ...   \n...              ...   ...           ...     ...               ...  ...   \n5636             0.0   0.0           0.0     0.0               0.0  ...   \n5637             0.0   0.0           0.0     0.0               0.0  ...   \n5638             0.0   0.0           0.0     0.0               0.0  ...   \n5639             0.0   0.0           0.0     0.0               0.0  ...   \n5640             0.0   0.0           0.0     0.0               0.0  ...   \n\n      appCat.communication  appCat.unknown  appCat.social  circumplex.arousal  \\\n0                      0.0             0.0            0.0                -1.0   \n1                      0.0             0.0            0.0                -1.0   \n2                      0.0             0.0            0.0                 0.0   \n3                      0.0             0.0            0.0                 1.0   \n4                      0.0             0.0            0.0                -2.0   \n...                    ...             ...            ...                 ...   \n5636                   0.0             0.0            0.0                 0.0   \n5637                   0.0             0.0            0.0                 0.0   \n5638                   0.0             0.0            0.0                 0.0   \n5639                   0.0             0.0            0.0                 0.0   \n5640                   0.0             0.0            0.0                 0.0   \n\n      appCat.entertainment  appCat.finance  appCat.game  sms  appCat.builtin  \\\n0                      0.0             0.0          0.0  7.0             0.0   \n1                      0.0             0.0          0.0  0.0             0.0   \n2                      0.0             0.0          0.0  1.0             0.0   \n3                      0.0             0.0          0.0  0.0             0.0   \n4                      0.0             0.0          0.0  1.0             0.0   \n...                    ...             ...          ...  ...             ...   \n5636                   0.0             0.0          0.0  0.0             0.0   \n5637                   0.0             0.0          0.0  0.0             0.0   \n5638                   0.0             0.0          0.0  0.0             0.0   \n5639                   0.0             0.0          0.0  0.0             0.0   \n5640                   0.0             0.0          0.0  0.0             0.0   \n\n      appCat.travel  \n0               0.0  \n1               0.0  \n2               0.0  \n3               0.0  \n4               0.0  \n...             ...  \n5636            0.0  \n5637            0.0  \n5638            0.0  \n5639            0.0  \n5640            0.0  \n\n[5641 rows x 21 columns]",
      "text/html": "<div>\n<style scoped>\n    .dataframe tbody tr th:only-of-type {\n        vertical-align: middle;\n    }\n\n    .dataframe tbody tr th {\n        vertical-align: top;\n    }\n\n    .dataframe thead th {\n        text-align: right;\n    }\n</style>\n<table border=\"1\" class=\"dataframe\">\n  <thead>\n    <tr style=\"text-align: right;\">\n      <th></th>\n      <th>id</th>\n      <th>time</th>\n      <th>mood</th>\n      <th>circumplex.valence</th>\n      <th>appCat.office</th>\n      <th>appCat.weather</th>\n      <th>call</th>\n      <th>appCat.other</th>\n      <th>screen</th>\n      <th>appCat.utilities</th>\n      <th>...</th>\n      <th>appCat.communication</th>\n      <th>appCat.unknown</th>\n      <th>appCat.social</th>\n      <th>circumplex.arousal</th>\n      <th>appCat.entertainment</th>\n      <th>appCat.finance</th>\n      <th>appCat.game</th>\n      <th>sms</th>\n      <th>appCat.builtin</th>\n      <th>appCat.travel</th>\n    </tr>\n  </thead>\n  <tbody>\n    <tr>\n      <th>0</th>\n      <td>AS14.01</td>\n      <td>2014-02-26 13:00:00</td>\n      <td>6.0</td>\n      <td>0.0</td>\n      <td>0.0</td>\n      <td>0.0</td>\n      <td>17.0</td>\n      <td>0.0</td>\n      <td>0.0</td>\n      <td>0.0</td>\n      <td>...</td>\n      <td>0.0</td>\n      <td>0.0</td>\n      <td>0.0</td>\n      <td>-1.0</td>\n      <td>0.0</td>\n      <td>0.0</td>\n      <td>0.0</td>\n      <td>7.0</td>\n      <td>0.0</td>\n      <td>0.0</td>\n    </tr>\n    <tr>\n      <th>1</th>\n      <td>AS14.01</td>\n      <td>2014-02-26 15:00:00</td>\n      <td>6.0</td>\n      <td>1.0</td>\n      <td>0.0</td>\n      <td>0.0</td>\n      <td>0.0</td>\n      <td>0.0</td>\n      <td>0.0</td>\n      <td>0.0</td>\n      <td>...</td>\n      <td>0.0</td>\n      <td>0.0</td>\n      <td>0.0</td>\n      <td>-1.0</td>\n      <td>0.0</td>\n      <td>0.0</td>\n      <td>0.0</td>\n      <td>0.0</td>\n      <td>0.0</td>\n      <td>0.0</td>\n    </tr>\n    <tr>\n      <th>2</th>\n      <td>AS14.01</td>\n      <td>2014-02-26 18:00:00</td>\n      <td>6.0</td>\n      <td>1.0</td>\n      <td>0.0</td>\n      <td>0.0</td>\n      <td>0.0</td>\n      <td>0.0</td>\n      <td>0.0</td>\n      <td>0.0</td>\n      <td>...</td>\n      <td>0.0</td>\n      <td>0.0</td>\n      <td>0.0</td>\n      <td>0.0</td>\n      <td>0.0</td>\n      <td>0.0</td>\n      <td>0.0</td>\n      <td>1.0</td>\n      <td>0.0</td>\n      <td>0.0</td>\n    </tr>\n    <tr>\n      <th>3</th>\n      <td>AS14.01</td>\n      <td>2014-02-26 21:00:00</td>\n      <td>7.0</td>\n      <td>1.0</td>\n      <td>0.0</td>\n      <td>0.0</td>\n      <td>1.0</td>\n      <td>0.0</td>\n      <td>0.0</td>\n      <td>0.0</td>\n      <td>...</td>\n      <td>0.0</td>\n      <td>0.0</td>\n      <td>0.0</td>\n      <td>1.0</td>\n      <td>0.0</td>\n      <td>0.0</td>\n      <td>0.0</td>\n      <td>0.0</td>\n      <td>0.0</td>\n      <td>0.0</td>\n    </tr>\n    <tr>\n      <th>4</th>\n      <td>AS14.01</td>\n      <td>2014-02-27 09:00:00</td>\n      <td>6.0</td>\n      <td>0.0</td>\n      <td>0.0</td>\n      <td>0.0</td>\n      <td>0.0</td>\n      <td>0.0</td>\n      <td>0.0</td>\n      <td>0.0</td>\n      <td>...</td>\n      <td>0.0</td>\n      <td>0.0</td>\n      <td>0.0</td>\n      <td>-2.0</td>\n      <td>0.0</td>\n      <td>0.0</td>\n      <td>0.0</td>\n      <td>1.0</td>\n      <td>0.0</td>\n      <td>0.0</td>\n    </tr>\n    <tr>\n      <th>...</th>\n      <td>...</td>\n      <td>...</td>\n      <td>...</td>\n      <td>...</td>\n      <td>...</td>\n      <td>...</td>\n      <td>...</td>\n      <td>...</td>\n      <td>...</td>\n      <td>...</td>\n      <td>...</td>\n      <td>...</td>\n      <td>...</td>\n      <td>...</td>\n      <td>...</td>\n      <td>...</td>\n      <td>...</td>\n      <td>...</td>\n      <td>...</td>\n      <td>...</td>\n      <td>...</td>\n    </tr>\n    <tr>\n      <th>5636</th>\n      <td>AS14.33</td>\n      <td>2014-05-30 09:00:00</td>\n      <td>8.0</td>\n      <td>0.0</td>\n      <td>0.0</td>\n      <td>0.0</td>\n      <td>0.0</td>\n      <td>0.0</td>\n      <td>0.0</td>\n      <td>0.0</td>\n      <td>...</td>\n      <td>0.0</td>\n      <td>0.0</td>\n      <td>0.0</td>\n      <td>0.0</td>\n      <td>0.0</td>\n      <td>0.0</td>\n      <td>0.0</td>\n      <td>0.0</td>\n      <td>0.0</td>\n      <td>0.0</td>\n    </tr>\n    <tr>\n      <th>5637</th>\n      <td>AS14.33</td>\n      <td>2014-05-30 13:00:00</td>\n      <td>6.0</td>\n      <td>0.0</td>\n      <td>0.0</td>\n      <td>0.0</td>\n      <td>0.0</td>\n      <td>0.0</td>\n      <td>0.0</td>\n      <td>0.0</td>\n      <td>...</td>\n      <td>0.0</td>\n      <td>0.0</td>\n      <td>0.0</td>\n      <td>0.0</td>\n      <td>0.0</td>\n      <td>0.0</td>\n      <td>0.0</td>\n      <td>0.0</td>\n      <td>0.0</td>\n      <td>0.0</td>\n    </tr>\n    <tr>\n      <th>5638</th>\n      <td>AS14.33</td>\n      <td>2014-05-30 19:00:00</td>\n      <td>8.0</td>\n      <td>0.0</td>\n      <td>0.0</td>\n      <td>0.0</td>\n      <td>0.0</td>\n      <td>0.0</td>\n      <td>0.0</td>\n      <td>0.0</td>\n      <td>...</td>\n      <td>0.0</td>\n      <td>0.0</td>\n      <td>0.0</td>\n      <td>0.0</td>\n      <td>0.0</td>\n      <td>0.0</td>\n      <td>0.0</td>\n      <td>0.0</td>\n      <td>0.0</td>\n      <td>0.0</td>\n    </tr>\n    <tr>\n      <th>5639</th>\n      <td>AS14.33</td>\n      <td>2014-05-30 20:00:00</td>\n      <td>6.0</td>\n      <td>0.0</td>\n      <td>0.0</td>\n      <td>0.0</td>\n      <td>0.0</td>\n      <td>0.0</td>\n      <td>0.0</td>\n      <td>0.0</td>\n      <td>...</td>\n      <td>0.0</td>\n      <td>0.0</td>\n      <td>0.0</td>\n      <td>0.0</td>\n      <td>0.0</td>\n      <td>0.0</td>\n      <td>0.0</td>\n      <td>0.0</td>\n      <td>0.0</td>\n      <td>0.0</td>\n    </tr>\n    <tr>\n      <th>5640</th>\n      <td>AS14.33</td>\n      <td>2014-05-31 12:00:00</td>\n      <td>7.0</td>\n      <td>0.0</td>\n      <td>0.0</td>\n      <td>0.0</td>\n      <td>0.0</td>\n      <td>0.0</td>\n      <td>0.0</td>\n      <td>0.0</td>\n      <td>...</td>\n      <td>0.0</td>\n      <td>0.0</td>\n      <td>0.0</td>\n      <td>0.0</td>\n      <td>0.0</td>\n      <td>0.0</td>\n      <td>0.0</td>\n      <td>0.0</td>\n      <td>0.0</td>\n      <td>0.0</td>\n    </tr>\n  </tbody>\n</table>\n<p>5641 rows × 21 columns</p>\n</div>"
     },
     "execution_count": 24,
     "metadata": {},
     "output_type": "execute_result"
    }
   ],
   "execution_count": 24
  },
  {
   "metadata": {
    "ExecuteTime": {
     "end_time": "2024-04-09T13:03:43.873367Z",
     "start_time": "2024-04-09T13:02:56.063615Z"
    }
   },
   "cell_type": "code",
   "source": [
    "for idx in range(len(dataset)):\n",
    "    cur_time = dataset.loc[idx, 'time']\n",
    "    cur_id = dataset.loc[idx, 'id']\n",
    "    \n",
    "    related_data = data[(data['id'] == cur_id) & (data['time'] <= cur_time)].copy().groupby('variable').agg({\"value\": \"sum\"})\n",
    "    for row in related_data.itertuples():\n",
    "        dataset.at[idx, row.Index] = row.value\n",
    "        \n",
    "    data = data.loc[(data['id'] != cur_id) | (data['time'] > cur_time)]"
   ],
   "id": "82fa11bbbf6ab12e",
   "outputs": [
    {
     "ename": "KeyboardInterrupt",
     "evalue": "",
     "output_type": "error",
     "traceback": [
      "\u001B[0;31m---------------------------------------------------------------------------\u001B[0m",
      "\u001B[0;31mKeyboardInterrupt\u001B[0m                         Traceback (most recent call last)",
      "Cell \u001B[0;32mIn[25], line 5\u001B[0m\n\u001B[1;32m      2\u001B[0m cur_time \u001B[38;5;241m=\u001B[39m dataset\u001B[38;5;241m.\u001B[39mloc[idx, \u001B[38;5;124m'\u001B[39m\u001B[38;5;124mtime\u001B[39m\u001B[38;5;124m'\u001B[39m]\n\u001B[1;32m      3\u001B[0m cur_id \u001B[38;5;241m=\u001B[39m dataset\u001B[38;5;241m.\u001B[39mloc[idx, \u001B[38;5;124m'\u001B[39m\u001B[38;5;124mid\u001B[39m\u001B[38;5;124m'\u001B[39m]\n\u001B[0;32m----> 5\u001B[0m related_data \u001B[38;5;241m=\u001B[39m data[(\u001B[43mdata\u001B[49m\u001B[43m[\u001B[49m\u001B[38;5;124;43m'\u001B[39;49m\u001B[38;5;124;43mid\u001B[39;49m\u001B[38;5;124;43m'\u001B[39;49m\u001B[43m]\u001B[49m\u001B[43m \u001B[49m\u001B[38;5;241;43m==\u001B[39;49m\u001B[43m \u001B[49m\u001B[43mcur_id\u001B[49m) \u001B[38;5;241m&\u001B[39m (data[\u001B[38;5;124m'\u001B[39m\u001B[38;5;124mtime\u001B[39m\u001B[38;5;124m'\u001B[39m] \u001B[38;5;241m<\u001B[39m\u001B[38;5;241m=\u001B[39m cur_time)]\u001B[38;5;241m.\u001B[39mcopy()\u001B[38;5;241m.\u001B[39mgroupby(\u001B[38;5;124m'\u001B[39m\u001B[38;5;124mvariable\u001B[39m\u001B[38;5;124m'\u001B[39m)\u001B[38;5;241m.\u001B[39magg({\u001B[38;5;124m\"\u001B[39m\u001B[38;5;124mvalue\u001B[39m\u001B[38;5;124m\"\u001B[39m: \u001B[38;5;124m\"\u001B[39m\u001B[38;5;124msum\u001B[39m\u001B[38;5;124m\"\u001B[39m})\n\u001B[1;32m      6\u001B[0m \u001B[38;5;28;01mfor\u001B[39;00m row \u001B[38;5;129;01min\u001B[39;00m related_data\u001B[38;5;241m.\u001B[39mitertuples():\n\u001B[1;32m      7\u001B[0m     dataset\u001B[38;5;241m.\u001B[39mat[idx, row\u001B[38;5;241m.\u001B[39mIndex] \u001B[38;5;241m=\u001B[39m row\u001B[38;5;241m.\u001B[39mvalue\n",
      "File \u001B[0;32m~/Library/Mobile Documents/com~apple~CloudDocs/Documents/1_VU/DMT/data-mining-techniques-assignment1/venv/lib/python3.11/site-packages/pandas/core/ops/common.py:76\u001B[0m, in \u001B[0;36m_unpack_zerodim_and_defer.<locals>.new_method\u001B[0;34m(self, other)\u001B[0m\n\u001B[1;32m     72\u001B[0m             \u001B[38;5;28;01mreturn\u001B[39;00m \u001B[38;5;28mNotImplemented\u001B[39m\n\u001B[1;32m     74\u001B[0m other \u001B[38;5;241m=\u001B[39m item_from_zerodim(other)\n\u001B[0;32m---> 76\u001B[0m \u001B[38;5;28;01mreturn\u001B[39;00m \u001B[43mmethod\u001B[49m\u001B[43m(\u001B[49m\u001B[38;5;28;43mself\u001B[39;49m\u001B[43m,\u001B[49m\u001B[43m \u001B[49m\u001B[43mother\u001B[49m\u001B[43m)\u001B[49m\n",
      "File \u001B[0;32m~/Library/Mobile Documents/com~apple~CloudDocs/Documents/1_VU/DMT/data-mining-techniques-assignment1/venv/lib/python3.11/site-packages/pandas/core/arraylike.py:40\u001B[0m, in \u001B[0;36mOpsMixin.__eq__\u001B[0;34m(self, other)\u001B[0m\n\u001B[1;32m     38\u001B[0m \u001B[38;5;129m@unpack_zerodim_and_defer\u001B[39m(\u001B[38;5;124m\"\u001B[39m\u001B[38;5;124m__eq__\u001B[39m\u001B[38;5;124m\"\u001B[39m)\n\u001B[1;32m     39\u001B[0m \u001B[38;5;28;01mdef\u001B[39;00m \u001B[38;5;21m__eq__\u001B[39m(\u001B[38;5;28mself\u001B[39m, other):\n\u001B[0;32m---> 40\u001B[0m     \u001B[38;5;28;01mreturn\u001B[39;00m \u001B[38;5;28;43mself\u001B[39;49m\u001B[38;5;241;43m.\u001B[39;49m\u001B[43m_cmp_method\u001B[49m\u001B[43m(\u001B[49m\u001B[43mother\u001B[49m\u001B[43m,\u001B[49m\u001B[43m \u001B[49m\u001B[43moperator\u001B[49m\u001B[38;5;241;43m.\u001B[39;49m\u001B[43meq\u001B[49m\u001B[43m)\u001B[49m\n",
      "File \u001B[0;32m~/Library/Mobile Documents/com~apple~CloudDocs/Documents/1_VU/DMT/data-mining-techniques-assignment1/venv/lib/python3.11/site-packages/pandas/core/series.py:6110\u001B[0m, in \u001B[0;36mSeries._cmp_method\u001B[0;34m(self, other, op)\u001B[0m\n\u001B[1;32m   6107\u001B[0m lvalues \u001B[38;5;241m=\u001B[39m \u001B[38;5;28mself\u001B[39m\u001B[38;5;241m.\u001B[39m_values\n\u001B[1;32m   6108\u001B[0m rvalues \u001B[38;5;241m=\u001B[39m extract_array(other, extract_numpy\u001B[38;5;241m=\u001B[39m\u001B[38;5;28;01mTrue\u001B[39;00m, extract_range\u001B[38;5;241m=\u001B[39m\u001B[38;5;28;01mTrue\u001B[39;00m)\n\u001B[0;32m-> 6110\u001B[0m res_values \u001B[38;5;241m=\u001B[39m \u001B[43mops\u001B[49m\u001B[38;5;241;43m.\u001B[39;49m\u001B[43mcomparison_op\u001B[49m\u001B[43m(\u001B[49m\u001B[43mlvalues\u001B[49m\u001B[43m,\u001B[49m\u001B[43m \u001B[49m\u001B[43mrvalues\u001B[49m\u001B[43m,\u001B[49m\u001B[43m \u001B[49m\u001B[43mop\u001B[49m\u001B[43m)\u001B[49m\n\u001B[1;32m   6112\u001B[0m \u001B[38;5;28;01mreturn\u001B[39;00m \u001B[38;5;28mself\u001B[39m\u001B[38;5;241m.\u001B[39m_construct_result(res_values, name\u001B[38;5;241m=\u001B[39mres_name)\n",
      "File \u001B[0;32m~/Library/Mobile Documents/com~apple~CloudDocs/Documents/1_VU/DMT/data-mining-techniques-assignment1/venv/lib/python3.11/site-packages/pandas/core/ops/array_ops.py:344\u001B[0m, in \u001B[0;36mcomparison_op\u001B[0;34m(left, right, op)\u001B[0m\n\u001B[1;32m    341\u001B[0m     \u001B[38;5;28;01mreturn\u001B[39;00m invalid_comparison(lvalues, rvalues, op)\n\u001B[1;32m    343\u001B[0m \u001B[38;5;28;01melif\u001B[39;00m lvalues\u001B[38;5;241m.\u001B[39mdtype \u001B[38;5;241m==\u001B[39m \u001B[38;5;28mobject\u001B[39m \u001B[38;5;129;01mor\u001B[39;00m \u001B[38;5;28misinstance\u001B[39m(rvalues, \u001B[38;5;28mstr\u001B[39m):\n\u001B[0;32m--> 344\u001B[0m     res_values \u001B[38;5;241m=\u001B[39m \u001B[43mcomp_method_OBJECT_ARRAY\u001B[49m\u001B[43m(\u001B[49m\u001B[43mop\u001B[49m\u001B[43m,\u001B[49m\u001B[43m \u001B[49m\u001B[43mlvalues\u001B[49m\u001B[43m,\u001B[49m\u001B[43m \u001B[49m\u001B[43mrvalues\u001B[49m\u001B[43m)\u001B[49m\n\u001B[1;32m    346\u001B[0m \u001B[38;5;28;01melse\u001B[39;00m:\n\u001B[1;32m    347\u001B[0m     res_values \u001B[38;5;241m=\u001B[39m _na_arithmetic_op(lvalues, rvalues, op, is_cmp\u001B[38;5;241m=\u001B[39m\u001B[38;5;28;01mTrue\u001B[39;00m)\n",
      "File \u001B[0;32m~/Library/Mobile Documents/com~apple~CloudDocs/Documents/1_VU/DMT/data-mining-techniques-assignment1/venv/lib/python3.11/site-packages/pandas/core/ops/array_ops.py:129\u001B[0m, in \u001B[0;36mcomp_method_OBJECT_ARRAY\u001B[0;34m(op, x, y)\u001B[0m\n\u001B[1;32m    127\u001B[0m     result \u001B[38;5;241m=\u001B[39m libops\u001B[38;5;241m.\u001B[39mvec_compare(x\u001B[38;5;241m.\u001B[39mravel(), y\u001B[38;5;241m.\u001B[39mravel(), op)\n\u001B[1;32m    128\u001B[0m \u001B[38;5;28;01melse\u001B[39;00m:\n\u001B[0;32m--> 129\u001B[0m     result \u001B[38;5;241m=\u001B[39m \u001B[43mlibops\u001B[49m\u001B[38;5;241;43m.\u001B[39;49m\u001B[43mscalar_compare\u001B[49m\u001B[43m(\u001B[49m\u001B[43mx\u001B[49m\u001B[38;5;241;43m.\u001B[39;49m\u001B[43mravel\u001B[49m\u001B[43m(\u001B[49m\u001B[43m)\u001B[49m\u001B[43m,\u001B[49m\u001B[43m \u001B[49m\u001B[43my\u001B[49m\u001B[43m,\u001B[49m\u001B[43m \u001B[49m\u001B[43mop\u001B[49m\u001B[43m)\u001B[49m\n\u001B[1;32m    130\u001B[0m \u001B[38;5;28;01mreturn\u001B[39;00m result\u001B[38;5;241m.\u001B[39mreshape(x\u001B[38;5;241m.\u001B[39mshape)\n",
      "\u001B[0;31mKeyboardInterrupt\u001B[0m: "
     ]
    }
   ],
   "execution_count": 25
  },
  {
   "metadata": {
    "ExecuteTime": {
     "end_time": "2024-04-07T14:29:51.392198Z",
     "start_time": "2024-04-07T14:29:51.379648Z"
    }
   },
   "cell_type": "code",
   "source": [
    "dataset"
   ],
   "id": "6f0c2c30a4ff2506",
   "outputs": [
    {
     "data": {
      "text/plain": [
       "           id                time  mood  appCat.communication  appCat.other  \\\n",
       "0     AS14.01 2014-02-26 13:00:00   6.0                 0.000         0.000   \n",
       "1     AS14.01 2014-02-26 15:00:00   6.0                 0.000         0.000   \n",
       "2     AS14.01 2014-02-26 18:00:00   6.0                 0.000         0.000   \n",
       "3     AS14.01 2014-02-26 21:00:00   7.0                 0.000         0.000   \n",
       "4     AS14.01 2014-02-27 09:00:00   6.0                 0.000         0.000   \n",
       "...       ...                 ...   ...                   ...           ...   \n",
       "5636  AS14.33 2014-05-30 09:00:00   8.0                49.143        12.326   \n",
       "5637  AS14.33 2014-05-30 13:00:00   6.0               571.462        17.095   \n",
       "5638  AS14.33 2014-05-30 19:00:00   8.0               748.559         0.000   \n",
       "5639  AS14.33 2014-05-30 20:00:00   6.0                76.191        13.068   \n",
       "5640  AS14.33 2014-05-31 12:00:00   7.0               225.487        10.121   \n",
       "\n",
       "      sms  circumplex.valence       screen  appCat.entertainment  \\\n",
       "0     7.0                 0.0     0.000000                 0.000   \n",
       "1     0.0                 1.0     0.000000                 0.000   \n",
       "2     1.0                 1.0     0.000000                 0.000   \n",
       "3     0.0                 1.0     0.000000                 0.000   \n",
       "4     1.0                 0.0     0.000000                 0.000   \n",
       "...   ...                 ...          ...                   ...   \n",
       "5636  0.0                 1.0  1212.441000                85.828   \n",
       "5637  0.0                 0.0  2137.003000                 4.106   \n",
       "5638  0.0                -1.0  2438.450999                 0.000   \n",
       "5639  0.0                -1.0    22.573000                 0.000   \n",
       "5640  0.0                 1.0  3687.178999               170.286   \n",
       "\n",
       "      appCat.weather  ...  appCat.game  appCat.office  call  appCat.builtin  \\\n",
       "0                0.0  ...          0.0            0.0  17.0           0.000   \n",
       "1                0.0  ...          0.0            0.0   0.0           0.000   \n",
       "2                0.0  ...          0.0            0.0   0.0           0.000   \n",
       "3                0.0  ...          0.0            0.0   1.0           0.000   \n",
       "4                0.0  ...          0.0            0.0   0.0           0.000   \n",
       "...              ...  ...          ...            ...   ...             ...   \n",
       "5636             0.0  ...          0.0            0.0   0.0         144.100   \n",
       "5637             0.0  ...          0.0            0.0   0.0        1263.565   \n",
       "5638             0.0  ...          0.0            0.0   4.0         970.069   \n",
       "5639             0.0  ...          0.0            0.0   0.0           6.072   \n",
       "5640             0.0  ...          0.0            0.0   0.0         660.224   \n",
       "\n",
       "      appCat.finance  circumplex.arousal  activity  appCat.utilities  \\\n",
       "0                0.0                -1.0  0.000000             0.000   \n",
       "1                0.0                -1.0  0.000000             0.000   \n",
       "2                0.0                 0.0  0.000000             0.000   \n",
       "3                0.0                 1.0  0.000000             0.000   \n",
       "4                0.0                -2.0  0.000000             0.000   \n",
       "...              ...                 ...       ...               ...   \n",
       "5636             0.0                 1.0  0.260504             0.000   \n",
       "5637             0.0                 0.0  1.704301           220.494   \n",
       "5638             0.0                -2.0  1.599415             4.306   \n",
       "5639             0.0                -2.0  0.008403             0.000   \n",
       "5640             0.0                -2.0  0.392094             8.025   \n",
       "\n",
       "      appCat.unknown  appCat.travel  \n",
       "0              0.000          0.000  \n",
       "1              0.000          0.000  \n",
       "2              0.000          0.000  \n",
       "3              0.000          0.000  \n",
       "4              0.000          0.000  \n",
       "...              ...            ...  \n",
       "5636           0.000        136.934  \n",
       "5637           5.026        132.148  \n",
       "5638           3.046        783.566  \n",
       "5639           0.000          0.000  \n",
       "5640           0.000          0.000  \n",
       "\n",
       "[5641 rows x 21 columns]"
      ],
      "text/html": [
       "<div>\n",
       "<style scoped>\n",
       "    .dataframe tbody tr th:only-of-type {\n",
       "        vertical-align: middle;\n",
       "    }\n",
       "\n",
       "    .dataframe tbody tr th {\n",
       "        vertical-align: top;\n",
       "    }\n",
       "\n",
       "    .dataframe thead th {\n",
       "        text-align: right;\n",
       "    }\n",
       "</style>\n",
       "<table border=\"1\" class=\"dataframe\">\n",
       "  <thead>\n",
       "    <tr style=\"text-align: right;\">\n",
       "      <th></th>\n",
       "      <th>id</th>\n",
       "      <th>time</th>\n",
       "      <th>mood</th>\n",
       "      <th>appCat.communication</th>\n",
       "      <th>appCat.other</th>\n",
       "      <th>sms</th>\n",
       "      <th>circumplex.valence</th>\n",
       "      <th>screen</th>\n",
       "      <th>appCat.entertainment</th>\n",
       "      <th>appCat.weather</th>\n",
       "      <th>...</th>\n",
       "      <th>appCat.game</th>\n",
       "      <th>appCat.office</th>\n",
       "      <th>call</th>\n",
       "      <th>appCat.builtin</th>\n",
       "      <th>appCat.finance</th>\n",
       "      <th>circumplex.arousal</th>\n",
       "      <th>activity</th>\n",
       "      <th>appCat.utilities</th>\n",
       "      <th>appCat.unknown</th>\n",
       "      <th>appCat.travel</th>\n",
       "    </tr>\n",
       "  </thead>\n",
       "  <tbody>\n",
       "    <tr>\n",
       "      <th>0</th>\n",
       "      <td>AS14.01</td>\n",
       "      <td>2014-02-26 13:00:00</td>\n",
       "      <td>6.0</td>\n",
       "      <td>0.000</td>\n",
       "      <td>0.000</td>\n",
       "      <td>7.0</td>\n",
       "      <td>0.0</td>\n",
       "      <td>0.000000</td>\n",
       "      <td>0.000</td>\n",
       "      <td>0.0</td>\n",
       "      <td>...</td>\n",
       "      <td>0.0</td>\n",
       "      <td>0.0</td>\n",
       "      <td>17.0</td>\n",
       "      <td>0.000</td>\n",
       "      <td>0.0</td>\n",
       "      <td>-1.0</td>\n",
       "      <td>0.000000</td>\n",
       "      <td>0.000</td>\n",
       "      <td>0.000</td>\n",
       "      <td>0.000</td>\n",
       "    </tr>\n",
       "    <tr>\n",
       "      <th>1</th>\n",
       "      <td>AS14.01</td>\n",
       "      <td>2014-02-26 15:00:00</td>\n",
       "      <td>6.0</td>\n",
       "      <td>0.000</td>\n",
       "      <td>0.000</td>\n",
       "      <td>0.0</td>\n",
       "      <td>1.0</td>\n",
       "      <td>0.000000</td>\n",
       "      <td>0.000</td>\n",
       "      <td>0.0</td>\n",
       "      <td>...</td>\n",
       "      <td>0.0</td>\n",
       "      <td>0.0</td>\n",
       "      <td>0.0</td>\n",
       "      <td>0.000</td>\n",
       "      <td>0.0</td>\n",
       "      <td>-1.0</td>\n",
       "      <td>0.000000</td>\n",
       "      <td>0.000</td>\n",
       "      <td>0.000</td>\n",
       "      <td>0.000</td>\n",
       "    </tr>\n",
       "    <tr>\n",
       "      <th>2</th>\n",
       "      <td>AS14.01</td>\n",
       "      <td>2014-02-26 18:00:00</td>\n",
       "      <td>6.0</td>\n",
       "      <td>0.000</td>\n",
       "      <td>0.000</td>\n",
       "      <td>1.0</td>\n",
       "      <td>1.0</td>\n",
       "      <td>0.000000</td>\n",
       "      <td>0.000</td>\n",
       "      <td>0.0</td>\n",
       "      <td>...</td>\n",
       "      <td>0.0</td>\n",
       "      <td>0.0</td>\n",
       "      <td>0.0</td>\n",
       "      <td>0.000</td>\n",
       "      <td>0.0</td>\n",
       "      <td>0.0</td>\n",
       "      <td>0.000000</td>\n",
       "      <td>0.000</td>\n",
       "      <td>0.000</td>\n",
       "      <td>0.000</td>\n",
       "    </tr>\n",
       "    <tr>\n",
       "      <th>3</th>\n",
       "      <td>AS14.01</td>\n",
       "      <td>2014-02-26 21:00:00</td>\n",
       "      <td>7.0</td>\n",
       "      <td>0.000</td>\n",
       "      <td>0.000</td>\n",
       "      <td>0.0</td>\n",
       "      <td>1.0</td>\n",
       "      <td>0.000000</td>\n",
       "      <td>0.000</td>\n",
       "      <td>0.0</td>\n",
       "      <td>...</td>\n",
       "      <td>0.0</td>\n",
       "      <td>0.0</td>\n",
       "      <td>1.0</td>\n",
       "      <td>0.000</td>\n",
       "      <td>0.0</td>\n",
       "      <td>1.0</td>\n",
       "      <td>0.000000</td>\n",
       "      <td>0.000</td>\n",
       "      <td>0.000</td>\n",
       "      <td>0.000</td>\n",
       "    </tr>\n",
       "    <tr>\n",
       "      <th>4</th>\n",
       "      <td>AS14.01</td>\n",
       "      <td>2014-02-27 09:00:00</td>\n",
       "      <td>6.0</td>\n",
       "      <td>0.000</td>\n",
       "      <td>0.000</td>\n",
       "      <td>1.0</td>\n",
       "      <td>0.0</td>\n",
       "      <td>0.000000</td>\n",
       "      <td>0.000</td>\n",
       "      <td>0.0</td>\n",
       "      <td>...</td>\n",
       "      <td>0.0</td>\n",
       "      <td>0.0</td>\n",
       "      <td>0.0</td>\n",
       "      <td>0.000</td>\n",
       "      <td>0.0</td>\n",
       "      <td>-2.0</td>\n",
       "      <td>0.000000</td>\n",
       "      <td>0.000</td>\n",
       "      <td>0.000</td>\n",
       "      <td>0.000</td>\n",
       "    </tr>\n",
       "    <tr>\n",
       "      <th>...</th>\n",
       "      <td>...</td>\n",
       "      <td>...</td>\n",
       "      <td>...</td>\n",
       "      <td>...</td>\n",
       "      <td>...</td>\n",
       "      <td>...</td>\n",
       "      <td>...</td>\n",
       "      <td>...</td>\n",
       "      <td>...</td>\n",
       "      <td>...</td>\n",
       "      <td>...</td>\n",
       "      <td>...</td>\n",
       "      <td>...</td>\n",
       "      <td>...</td>\n",
       "      <td>...</td>\n",
       "      <td>...</td>\n",
       "      <td>...</td>\n",
       "      <td>...</td>\n",
       "      <td>...</td>\n",
       "      <td>...</td>\n",
       "      <td>...</td>\n",
       "    </tr>\n",
       "    <tr>\n",
       "      <th>5636</th>\n",
       "      <td>AS14.33</td>\n",
       "      <td>2014-05-30 09:00:00</td>\n",
       "      <td>8.0</td>\n",
       "      <td>49.143</td>\n",
       "      <td>12.326</td>\n",
       "      <td>0.0</td>\n",
       "      <td>1.0</td>\n",
       "      <td>1212.441000</td>\n",
       "      <td>85.828</td>\n",
       "      <td>0.0</td>\n",
       "      <td>...</td>\n",
       "      <td>0.0</td>\n",
       "      <td>0.0</td>\n",
       "      <td>0.0</td>\n",
       "      <td>144.100</td>\n",
       "      <td>0.0</td>\n",
       "      <td>1.0</td>\n",
       "      <td>0.260504</td>\n",
       "      <td>0.000</td>\n",
       "      <td>0.000</td>\n",
       "      <td>136.934</td>\n",
       "    </tr>\n",
       "    <tr>\n",
       "      <th>5637</th>\n",
       "      <td>AS14.33</td>\n",
       "      <td>2014-05-30 13:00:00</td>\n",
       "      <td>6.0</td>\n",
       "      <td>571.462</td>\n",
       "      <td>17.095</td>\n",
       "      <td>0.0</td>\n",
       "      <td>0.0</td>\n",
       "      <td>2137.003000</td>\n",
       "      <td>4.106</td>\n",
       "      <td>0.0</td>\n",
       "      <td>...</td>\n",
       "      <td>0.0</td>\n",
       "      <td>0.0</td>\n",
       "      <td>0.0</td>\n",
       "      <td>1263.565</td>\n",
       "      <td>0.0</td>\n",
       "      <td>0.0</td>\n",
       "      <td>1.704301</td>\n",
       "      <td>220.494</td>\n",
       "      <td>5.026</td>\n",
       "      <td>132.148</td>\n",
       "    </tr>\n",
       "    <tr>\n",
       "      <th>5638</th>\n",
       "      <td>AS14.33</td>\n",
       "      <td>2014-05-30 19:00:00</td>\n",
       "      <td>8.0</td>\n",
       "      <td>748.559</td>\n",
       "      <td>0.000</td>\n",
       "      <td>0.0</td>\n",
       "      <td>-1.0</td>\n",
       "      <td>2438.450999</td>\n",
       "      <td>0.000</td>\n",
       "      <td>0.0</td>\n",
       "      <td>...</td>\n",
       "      <td>0.0</td>\n",
       "      <td>0.0</td>\n",
       "      <td>4.0</td>\n",
       "      <td>970.069</td>\n",
       "      <td>0.0</td>\n",
       "      <td>-2.0</td>\n",
       "      <td>1.599415</td>\n",
       "      <td>4.306</td>\n",
       "      <td>3.046</td>\n",
       "      <td>783.566</td>\n",
       "    </tr>\n",
       "    <tr>\n",
       "      <th>5639</th>\n",
       "      <td>AS14.33</td>\n",
       "      <td>2014-05-30 20:00:00</td>\n",
       "      <td>6.0</td>\n",
       "      <td>76.191</td>\n",
       "      <td>13.068</td>\n",
       "      <td>0.0</td>\n",
       "      <td>-1.0</td>\n",
       "      <td>22.573000</td>\n",
       "      <td>0.000</td>\n",
       "      <td>0.0</td>\n",
       "      <td>...</td>\n",
       "      <td>0.0</td>\n",
       "      <td>0.0</td>\n",
       "      <td>0.0</td>\n",
       "      <td>6.072</td>\n",
       "      <td>0.0</td>\n",
       "      <td>-2.0</td>\n",
       "      <td>0.008403</td>\n",
       "      <td>0.000</td>\n",
       "      <td>0.000</td>\n",
       "      <td>0.000</td>\n",
       "    </tr>\n",
       "    <tr>\n",
       "      <th>5640</th>\n",
       "      <td>AS14.33</td>\n",
       "      <td>2014-05-31 12:00:00</td>\n",
       "      <td>7.0</td>\n",
       "      <td>225.487</td>\n",
       "      <td>10.121</td>\n",
       "      <td>0.0</td>\n",
       "      <td>1.0</td>\n",
       "      <td>3687.178999</td>\n",
       "      <td>170.286</td>\n",
       "      <td>0.0</td>\n",
       "      <td>...</td>\n",
       "      <td>0.0</td>\n",
       "      <td>0.0</td>\n",
       "      <td>0.0</td>\n",
       "      <td>660.224</td>\n",
       "      <td>0.0</td>\n",
       "      <td>-2.0</td>\n",
       "      <td>0.392094</td>\n",
       "      <td>8.025</td>\n",
       "      <td>0.000</td>\n",
       "      <td>0.000</td>\n",
       "    </tr>\n",
       "  </tbody>\n",
       "</table>\n",
       "<p>5641 rows × 21 columns</p>\n",
       "</div>"
      ]
     },
     "execution_count": 17,
     "metadata": {},
     "output_type": "execute_result"
    }
   ],
   "execution_count": 17
  },
  {
   "metadata": {
    "ExecuteTime": {
     "end_time": "2024-04-07T14:29:51.434023Z",
     "start_time": "2024-04-07T14:29:51.392198Z"
    }
   },
   "cell_type": "code",
   "source": [
    "dataset.to_csv(\"datasets/mood_dataset_preprocessed.csv\", encoding=\"utf-8\", index=False)"
   ],
   "id": "6b8e70f84a292e0c",
   "outputs": [],
   "execution_count": 18
  },
  {
   "metadata": {},
   "cell_type": "code",
   "outputs": [],
   "execution_count": null,
   "source": [],
   "id": "5908414dba3ad321"
  }
 ],
 "metadata": {
  "kernelspec": {
   "name": "dmt1",
   "language": "python",
   "display_name": "dmt-ass1"
  },
  "language_info": {
   "codemirror_mode": {
    "name": "ipython",
    "version": 2
   },
   "file_extension": ".py",
   "mimetype": "text/x-python",
   "name": "python",
   "nbconvert_exporter": "python",
   "pygments_lexer": "ipython2",
   "version": "2.7.6"
  }
 },
 "nbformat": 4,
 "nbformat_minor": 5
}
