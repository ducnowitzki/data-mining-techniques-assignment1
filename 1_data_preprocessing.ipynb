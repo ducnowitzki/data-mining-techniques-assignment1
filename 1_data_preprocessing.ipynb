{
 "cells": [
  {
   "cell_type": "code",
   "execution_count": 21,
   "id": "initial_id",
   "metadata": {
    "collapsed": true,
    "ExecuteTime": {
     "end_time": "2024-04-16T12:34:10.166107Z",
     "start_time": "2024-04-16T12:34:10.162575Z"
    }
   },
   "outputs": [],
   "source": [
    "import numpy as np\n",
    "import pandas as pd"
   ]
  },
  {
   "cell_type": "code",
   "outputs": [],
   "source": [
    "df = pd.read_csv(\"datasets/dataset_mood_smartphone.csv\", sep=\",\", encoding=\"utf-8\")\n",
    "\n",
    "# only take columns: id, time, variable, value\n",
    "df = df[['id', 'time', 'variable', 'value']]\n",
    "\n",
    "# for grouping without aggregation\n",
    "df['aux_index'] = df.groupby(['id', 'time', 'variable']).cumcount()"
   ],
   "metadata": {
    "collapsed": false,
    "ExecuteTime": {
     "end_time": "2024-04-16T12:27:27.971929Z",
     "start_time": "2024-04-16T12:27:27.105076Z"
    }
   },
   "id": "7160f09c46462513",
   "execution_count": 15
  },
  {
   "cell_type": "code",
   "outputs": [
    {
     "data": {
      "text/plain": "variable        id                     time  activity  appCat.builtin  \\\naux_index                                                               \n0          AS14.01  2014-02-17 12:04:42.394       NaN             NaN   \n0          AS14.01  2014-02-17 18:28:25.520       NaN             NaN   \n0          AS14.01  2014-02-18 09:29:51.257       NaN             NaN   \n0          AS14.01  2014-02-19 14:43:30.575       NaN             NaN   \n0          AS14.01  2014-02-19 17:29:10.378       NaN             NaN   \n...            ...                      ...       ...             ...   \n0          AS14.33  2014-05-30 22:32:05.016       NaN             NaN   \n0          AS14.33  2014-05-30 22:32:11.049       NaN           3.122   \n0          AS14.33  2014-05-30 22:32:14.240       NaN           1.003   \n0          AS14.33  2014-05-30 22:32:15.246       NaN           4.134   \n0          AS14.33  2014-05-31 12:00:00.000       NaN             NaN   \n\nvariable   appCat.communication  appCat.entertainment  appCat.finance  \\\naux_index                                                               \n0                           NaN                   NaN             NaN   \n0                           NaN                   NaN             NaN   \n0                           NaN                   NaN             NaN   \n0                           NaN                   NaN             NaN   \n0                           NaN                   NaN             NaN   \n...                         ...                   ...             ...   \n0                           NaN                   NaN             NaN   \n0                           NaN                   NaN             NaN   \n0                           NaN                   NaN             NaN   \n0                           NaN                   NaN             NaN   \n0                           NaN                   NaN             NaN   \n\nvariable   appCat.game  appCat.office  appCat.other  ...  appCat.travel  \\\naux_index                                            ...                  \n0                  NaN            NaN           NaN  ...            NaN   \n0                  NaN            NaN           NaN  ...            NaN   \n0                  NaN            NaN           NaN  ...            NaN   \n0                  NaN            NaN           NaN  ...            NaN   \n0                  NaN            NaN           NaN  ...            NaN   \n...                ...            ...           ...  ...            ...   \n0                  NaN            NaN           NaN  ...            NaN   \n0                  NaN            NaN           NaN  ...            NaN   \n0                  NaN            NaN           NaN  ...            NaN   \n0                  NaN            NaN           NaN  ...            NaN   \n0                  NaN            NaN           NaN  ...            NaN   \n\nvariable   appCat.unknown  appCat.utilities  appCat.weather  call  \\\naux_index                                                           \n0                     NaN               NaN             NaN   1.0   \n0                     NaN               NaN             NaN   1.0   \n0                     NaN               NaN             NaN   1.0   \n0                     NaN               NaN             NaN   1.0   \n0                     NaN               NaN             NaN   1.0   \n...                   ...               ...             ...   ...   \n0                     NaN             6.019             NaN   NaN   \n0                     NaN               NaN             NaN   NaN   \n0                     NaN               NaN             NaN   NaN   \n0                     NaN               NaN             NaN   NaN   \n0                     NaN               NaN             NaN   NaN   \n\nvariable   circumplex.arousal  circumplex.valence  mood  screen  sms  \naux_index                                                             \n0                         NaN                 NaN   NaN     NaN  NaN  \n0                         NaN                 NaN   NaN     NaN  NaN  \n0                         NaN                 NaN   NaN     NaN  NaN  \n0                         NaN                 NaN   NaN     NaN  NaN  \n0                         NaN                 NaN   NaN     NaN  NaN  \n...                       ...                 ...   ...     ...  ...  \n0                         NaN                 NaN   NaN     NaN  NaN  \n0                         NaN                 NaN   NaN     NaN  NaN  \n0                         NaN                 NaN   NaN     NaN  NaN  \n0                         NaN                 NaN   NaN     NaN  NaN  \n0                        -2.0                 1.0   7.0     NaN  NaN  \n\n[358944 rows x 21 columns]",
      "text/html": "<div>\n<style scoped>\n    .dataframe tbody tr th:only-of-type {\n        vertical-align: middle;\n    }\n\n    .dataframe tbody tr th {\n        vertical-align: top;\n    }\n\n    .dataframe thead th {\n        text-align: right;\n    }\n</style>\n<table border=\"1\" class=\"dataframe\">\n  <thead>\n    <tr style=\"text-align: right;\">\n      <th>variable</th>\n      <th>id</th>\n      <th>time</th>\n      <th>activity</th>\n      <th>appCat.builtin</th>\n      <th>appCat.communication</th>\n      <th>appCat.entertainment</th>\n      <th>appCat.finance</th>\n      <th>appCat.game</th>\n      <th>appCat.office</th>\n      <th>appCat.other</th>\n      <th>...</th>\n      <th>appCat.travel</th>\n      <th>appCat.unknown</th>\n      <th>appCat.utilities</th>\n      <th>appCat.weather</th>\n      <th>call</th>\n      <th>circumplex.arousal</th>\n      <th>circumplex.valence</th>\n      <th>mood</th>\n      <th>screen</th>\n      <th>sms</th>\n    </tr>\n    <tr>\n      <th>aux_index</th>\n      <th></th>\n      <th></th>\n      <th></th>\n      <th></th>\n      <th></th>\n      <th></th>\n      <th></th>\n      <th></th>\n      <th></th>\n      <th></th>\n      <th></th>\n      <th></th>\n      <th></th>\n      <th></th>\n      <th></th>\n      <th></th>\n      <th></th>\n      <th></th>\n      <th></th>\n      <th></th>\n      <th></th>\n    </tr>\n  </thead>\n  <tbody>\n    <tr>\n      <th>0</th>\n      <td>AS14.01</td>\n      <td>2014-02-17 12:04:42.394</td>\n      <td>NaN</td>\n      <td>NaN</td>\n      <td>NaN</td>\n      <td>NaN</td>\n      <td>NaN</td>\n      <td>NaN</td>\n      <td>NaN</td>\n      <td>NaN</td>\n      <td>...</td>\n      <td>NaN</td>\n      <td>NaN</td>\n      <td>NaN</td>\n      <td>NaN</td>\n      <td>1.0</td>\n      <td>NaN</td>\n      <td>NaN</td>\n      <td>NaN</td>\n      <td>NaN</td>\n      <td>NaN</td>\n    </tr>\n    <tr>\n      <th>0</th>\n      <td>AS14.01</td>\n      <td>2014-02-17 18:28:25.520</td>\n      <td>NaN</td>\n      <td>NaN</td>\n      <td>NaN</td>\n      <td>NaN</td>\n      <td>NaN</td>\n      <td>NaN</td>\n      <td>NaN</td>\n      <td>NaN</td>\n      <td>...</td>\n      <td>NaN</td>\n      <td>NaN</td>\n      <td>NaN</td>\n      <td>NaN</td>\n      <td>1.0</td>\n      <td>NaN</td>\n      <td>NaN</td>\n      <td>NaN</td>\n      <td>NaN</td>\n      <td>NaN</td>\n    </tr>\n    <tr>\n      <th>0</th>\n      <td>AS14.01</td>\n      <td>2014-02-18 09:29:51.257</td>\n      <td>NaN</td>\n      <td>NaN</td>\n      <td>NaN</td>\n      <td>NaN</td>\n      <td>NaN</td>\n      <td>NaN</td>\n      <td>NaN</td>\n      <td>NaN</td>\n      <td>...</td>\n      <td>NaN</td>\n      <td>NaN</td>\n      <td>NaN</td>\n      <td>NaN</td>\n      <td>1.0</td>\n      <td>NaN</td>\n      <td>NaN</td>\n      <td>NaN</td>\n      <td>NaN</td>\n      <td>NaN</td>\n    </tr>\n    <tr>\n      <th>0</th>\n      <td>AS14.01</td>\n      <td>2014-02-19 14:43:30.575</td>\n      <td>NaN</td>\n      <td>NaN</td>\n      <td>NaN</td>\n      <td>NaN</td>\n      <td>NaN</td>\n      <td>NaN</td>\n      <td>NaN</td>\n      <td>NaN</td>\n      <td>...</td>\n      <td>NaN</td>\n      <td>NaN</td>\n      <td>NaN</td>\n      <td>NaN</td>\n      <td>1.0</td>\n      <td>NaN</td>\n      <td>NaN</td>\n      <td>NaN</td>\n      <td>NaN</td>\n      <td>NaN</td>\n    </tr>\n    <tr>\n      <th>0</th>\n      <td>AS14.01</td>\n      <td>2014-02-19 17:29:10.378</td>\n      <td>NaN</td>\n      <td>NaN</td>\n      <td>NaN</td>\n      <td>NaN</td>\n      <td>NaN</td>\n      <td>NaN</td>\n      <td>NaN</td>\n      <td>NaN</td>\n      <td>...</td>\n      <td>NaN</td>\n      <td>NaN</td>\n      <td>NaN</td>\n      <td>NaN</td>\n      <td>1.0</td>\n      <td>NaN</td>\n      <td>NaN</td>\n      <td>NaN</td>\n      <td>NaN</td>\n      <td>NaN</td>\n    </tr>\n    <tr>\n      <th>...</th>\n      <td>...</td>\n      <td>...</td>\n      <td>...</td>\n      <td>...</td>\n      <td>...</td>\n      <td>...</td>\n      <td>...</td>\n      <td>...</td>\n      <td>...</td>\n      <td>...</td>\n      <td>...</td>\n      <td>...</td>\n      <td>...</td>\n      <td>...</td>\n      <td>...</td>\n      <td>...</td>\n      <td>...</td>\n      <td>...</td>\n      <td>...</td>\n      <td>...</td>\n      <td>...</td>\n    </tr>\n    <tr>\n      <th>0</th>\n      <td>AS14.33</td>\n      <td>2014-05-30 22:32:05.016</td>\n      <td>NaN</td>\n      <td>NaN</td>\n      <td>NaN</td>\n      <td>NaN</td>\n      <td>NaN</td>\n      <td>NaN</td>\n      <td>NaN</td>\n      <td>NaN</td>\n      <td>...</td>\n      <td>NaN</td>\n      <td>NaN</td>\n      <td>6.019</td>\n      <td>NaN</td>\n      <td>NaN</td>\n      <td>NaN</td>\n      <td>NaN</td>\n      <td>NaN</td>\n      <td>NaN</td>\n      <td>NaN</td>\n    </tr>\n    <tr>\n      <th>0</th>\n      <td>AS14.33</td>\n      <td>2014-05-30 22:32:11.049</td>\n      <td>NaN</td>\n      <td>3.122</td>\n      <td>NaN</td>\n      <td>NaN</td>\n      <td>NaN</td>\n      <td>NaN</td>\n      <td>NaN</td>\n      <td>NaN</td>\n      <td>...</td>\n      <td>NaN</td>\n      <td>NaN</td>\n      <td>NaN</td>\n      <td>NaN</td>\n      <td>NaN</td>\n      <td>NaN</td>\n      <td>NaN</td>\n      <td>NaN</td>\n      <td>NaN</td>\n      <td>NaN</td>\n    </tr>\n    <tr>\n      <th>0</th>\n      <td>AS14.33</td>\n      <td>2014-05-30 22:32:14.240</td>\n      <td>NaN</td>\n      <td>1.003</td>\n      <td>NaN</td>\n      <td>NaN</td>\n      <td>NaN</td>\n      <td>NaN</td>\n      <td>NaN</td>\n      <td>NaN</td>\n      <td>...</td>\n      <td>NaN</td>\n      <td>NaN</td>\n      <td>NaN</td>\n      <td>NaN</td>\n      <td>NaN</td>\n      <td>NaN</td>\n      <td>NaN</td>\n      <td>NaN</td>\n      <td>NaN</td>\n      <td>NaN</td>\n    </tr>\n    <tr>\n      <th>0</th>\n      <td>AS14.33</td>\n      <td>2014-05-30 22:32:15.246</td>\n      <td>NaN</td>\n      <td>4.134</td>\n      <td>NaN</td>\n      <td>NaN</td>\n      <td>NaN</td>\n      <td>NaN</td>\n      <td>NaN</td>\n      <td>NaN</td>\n      <td>...</td>\n      <td>NaN</td>\n      <td>NaN</td>\n      <td>NaN</td>\n      <td>NaN</td>\n      <td>NaN</td>\n      <td>NaN</td>\n      <td>NaN</td>\n      <td>NaN</td>\n      <td>NaN</td>\n      <td>NaN</td>\n    </tr>\n    <tr>\n      <th>0</th>\n      <td>AS14.33</td>\n      <td>2014-05-31 12:00:00.000</td>\n      <td>NaN</td>\n      <td>NaN</td>\n      <td>NaN</td>\n      <td>NaN</td>\n      <td>NaN</td>\n      <td>NaN</td>\n      <td>NaN</td>\n      <td>NaN</td>\n      <td>...</td>\n      <td>NaN</td>\n      <td>NaN</td>\n      <td>NaN</td>\n      <td>NaN</td>\n      <td>NaN</td>\n      <td>-2.0</td>\n      <td>1.0</td>\n      <td>7.0</td>\n      <td>NaN</td>\n      <td>NaN</td>\n    </tr>\n  </tbody>\n</table>\n<p>358944 rows × 21 columns</p>\n</div>"
     },
     "execution_count": 66,
     "metadata": {},
     "output_type": "execute_result"
    }
   ],
   "source": [
    "# Now pivot using the new auxiliary column as part of the index to ensure uniqueness\n",
    "pivot_df = df.pivot(index=['id', 'time', 'aux_index'], columns='variable', values='value')\n",
    "pivot_df = pivot_df.reset_index(level=['id', 'time'])\n",
    "pivot_df\n"
   ],
   "metadata": {
    "collapsed": false,
    "ExecuteTime": {
     "end_time": "2024-04-16T13:48:32.196203Z",
     "start_time": "2024-04-16T13:48:31.085544Z"
    }
   },
   "id": "9f91accef6a862f",
   "execution_count": 66
  },
  {
   "cell_type": "code",
   "outputs": [],
   "source": [
    "sum_cols = [\n",
    "    'screen', 'call', 'sms', 'appCat.builtin', 'appCat.communication',\n",
    "    'appCat.entertainment', 'appCat.finance', 'appCat.game',\n",
    "    'appCat.office', 'appCat.other', 'appCat.social', 'appCat.travel',\n",
    "    'appCat.unknown', 'appCat.utilities', 'appCat.weather'\n",
    "]  # Add other app categories here\n",
    "mean_cols = ['mood', 'circumplex.arousal', 'circumplex.valence', 'activity']"
   ],
   "metadata": {
    "collapsed": false,
    "ExecuteTime": {
     "end_time": "2024-04-16T13:42:12.600281Z",
     "start_time": "2024-04-16T13:42:12.570988Z"
    }
   },
   "id": "cd105fa035808901",
   "execution_count": 63
  },
  {
   "cell_type": "code",
   "outputs": [
    {
     "data": {
      "text/plain": "variable       id                     time  appCat.builtin  \\\n0         AS14.01  2014-02-17 12:04:42.394             NaN   \n1         AS14.01  2014-02-17 18:28:25.520             NaN   \n2         AS14.01  2014-02-18 09:29:51.257             NaN   \n3         AS14.01  2014-02-19 14:43:30.575             NaN   \n4         AS14.01  2014-02-19 17:29:10.378             NaN   \n...           ...                      ...             ...   \n358921    AS14.33  2014-05-30 22:32:05.016             NaN   \n358922    AS14.33  2014-05-30 22:32:11.049           3.122   \n358923    AS14.33  2014-05-30 22:32:14.240           1.003   \n358924    AS14.33  2014-05-30 22:32:15.246           4.134   \n358925    AS14.33  2014-05-31 12:00:00.000             NaN   \n\nvariable  appCat.communication  appCat.entertainment  appCat.finance  \\\n0                          NaN                   NaN             NaN   \n1                          NaN                   NaN             NaN   \n2                          NaN                   NaN             NaN   \n3                          NaN                   NaN             NaN   \n4                          NaN                   NaN             NaN   \n...                        ...                   ...             ...   \n358921                     NaN                   NaN             NaN   \n358922                     NaN                   NaN             NaN   \n358923                     NaN                   NaN             NaN   \n358924                     NaN                   NaN             NaN   \n358925                     NaN                   NaN             NaN   \n\nvariable  appCat.game  appCat.office  appCat.other  appCat.social  ...  \\\n0                 NaN            NaN           NaN            NaN  ...   \n1                 NaN            NaN           NaN            NaN  ...   \n2                 NaN            NaN           NaN            NaN  ...   \n3                 NaN            NaN           NaN            NaN  ...   \n4                 NaN            NaN           NaN            NaN  ...   \n...               ...            ...           ...            ...  ...   \n358921            NaN            NaN           NaN            NaN  ...   \n358922            NaN            NaN           NaN            NaN  ...   \n358923            NaN            NaN           NaN            NaN  ...   \n358924            NaN            NaN           NaN            NaN  ...   \n358925            NaN            NaN           NaN            NaN  ...   \n\nvariable  appCat.unknown  appCat.utilities  appCat.weather  call  screen  sms  \\\n0                    NaN               NaN             NaN   1.0     NaN  NaN   \n1                    NaN               NaN             NaN   1.0     NaN  NaN   \n2                    NaN               NaN             NaN   1.0     NaN  NaN   \n3                    NaN               NaN             NaN   1.0     NaN  NaN   \n4                    NaN               NaN             NaN   1.0     NaN  NaN   \n...                  ...               ...             ...   ...     ...  ...   \n358921               NaN             6.019             NaN   NaN     NaN  NaN   \n358922               NaN               NaN             NaN   NaN     NaN  NaN   \n358923               NaN               NaN             NaN   NaN     NaN  NaN   \n358924               NaN               NaN             NaN   NaN     NaN  NaN   \n358925               NaN               NaN             NaN   NaN     NaN  NaN   \n\nvariable  activity  circumplex.arousal  circumplex.valence  mood  \n0              NaN                 NaN                 NaN   NaN  \n1              NaN                 NaN                 NaN   NaN  \n2              NaN                 NaN                 NaN   NaN  \n3              NaN                 NaN                 NaN   NaN  \n4              NaN                 NaN                 NaN   NaN  \n...            ...                 ...                 ...   ...  \n358921         NaN                 NaN                 NaN   NaN  \n358922         NaN                 NaN                 NaN   NaN  \n358923         NaN                 NaN                 NaN   NaN  \n358924         NaN                 NaN                 NaN   NaN  \n358925         NaN                -2.0                 1.0   7.0  \n\n[358926 rows x 21 columns]",
      "text/html": "<div>\n<style scoped>\n    .dataframe tbody tr th:only-of-type {\n        vertical-align: middle;\n    }\n\n    .dataframe tbody tr th {\n        vertical-align: top;\n    }\n\n    .dataframe thead th {\n        text-align: right;\n    }\n</style>\n<table border=\"1\" class=\"dataframe\">\n  <thead>\n    <tr style=\"text-align: right;\">\n      <th>variable</th>\n      <th>id</th>\n      <th>time</th>\n      <th>appCat.builtin</th>\n      <th>appCat.communication</th>\n      <th>appCat.entertainment</th>\n      <th>appCat.finance</th>\n      <th>appCat.game</th>\n      <th>appCat.office</th>\n      <th>appCat.other</th>\n      <th>appCat.social</th>\n      <th>...</th>\n      <th>appCat.unknown</th>\n      <th>appCat.utilities</th>\n      <th>appCat.weather</th>\n      <th>call</th>\n      <th>screen</th>\n      <th>sms</th>\n      <th>activity</th>\n      <th>circumplex.arousal</th>\n      <th>circumplex.valence</th>\n      <th>mood</th>\n    </tr>\n  </thead>\n  <tbody>\n    <tr>\n      <th>0</th>\n      <td>AS14.01</td>\n      <td>2014-02-17 12:04:42.394</td>\n      <td>NaN</td>\n      <td>NaN</td>\n      <td>NaN</td>\n      <td>NaN</td>\n      <td>NaN</td>\n      <td>NaN</td>\n      <td>NaN</td>\n      <td>NaN</td>\n      <td>...</td>\n      <td>NaN</td>\n      <td>NaN</td>\n      <td>NaN</td>\n      <td>1.0</td>\n      <td>NaN</td>\n      <td>NaN</td>\n      <td>NaN</td>\n      <td>NaN</td>\n      <td>NaN</td>\n      <td>NaN</td>\n    </tr>\n    <tr>\n      <th>1</th>\n      <td>AS14.01</td>\n      <td>2014-02-17 18:28:25.520</td>\n      <td>NaN</td>\n      <td>NaN</td>\n      <td>NaN</td>\n      <td>NaN</td>\n      <td>NaN</td>\n      <td>NaN</td>\n      <td>NaN</td>\n      <td>NaN</td>\n      <td>...</td>\n      <td>NaN</td>\n      <td>NaN</td>\n      <td>NaN</td>\n      <td>1.0</td>\n      <td>NaN</td>\n      <td>NaN</td>\n      <td>NaN</td>\n      <td>NaN</td>\n      <td>NaN</td>\n      <td>NaN</td>\n    </tr>\n    <tr>\n      <th>2</th>\n      <td>AS14.01</td>\n      <td>2014-02-18 09:29:51.257</td>\n      <td>NaN</td>\n      <td>NaN</td>\n      <td>NaN</td>\n      <td>NaN</td>\n      <td>NaN</td>\n      <td>NaN</td>\n      <td>NaN</td>\n      <td>NaN</td>\n      <td>...</td>\n      <td>NaN</td>\n      <td>NaN</td>\n      <td>NaN</td>\n      <td>1.0</td>\n      <td>NaN</td>\n      <td>NaN</td>\n      <td>NaN</td>\n      <td>NaN</td>\n      <td>NaN</td>\n      <td>NaN</td>\n    </tr>\n    <tr>\n      <th>3</th>\n      <td>AS14.01</td>\n      <td>2014-02-19 14:43:30.575</td>\n      <td>NaN</td>\n      <td>NaN</td>\n      <td>NaN</td>\n      <td>NaN</td>\n      <td>NaN</td>\n      <td>NaN</td>\n      <td>NaN</td>\n      <td>NaN</td>\n      <td>...</td>\n      <td>NaN</td>\n      <td>NaN</td>\n      <td>NaN</td>\n      <td>1.0</td>\n      <td>NaN</td>\n      <td>NaN</td>\n      <td>NaN</td>\n      <td>NaN</td>\n      <td>NaN</td>\n      <td>NaN</td>\n    </tr>\n    <tr>\n      <th>4</th>\n      <td>AS14.01</td>\n      <td>2014-02-19 17:29:10.378</td>\n      <td>NaN</td>\n      <td>NaN</td>\n      <td>NaN</td>\n      <td>NaN</td>\n      <td>NaN</td>\n      <td>NaN</td>\n      <td>NaN</td>\n      <td>NaN</td>\n      <td>...</td>\n      <td>NaN</td>\n      <td>NaN</td>\n      <td>NaN</td>\n      <td>1.0</td>\n      <td>NaN</td>\n      <td>NaN</td>\n      <td>NaN</td>\n      <td>NaN</td>\n      <td>NaN</td>\n      <td>NaN</td>\n    </tr>\n    <tr>\n      <th>...</th>\n      <td>...</td>\n      <td>...</td>\n      <td>...</td>\n      <td>...</td>\n      <td>...</td>\n      <td>...</td>\n      <td>...</td>\n      <td>...</td>\n      <td>...</td>\n      <td>...</td>\n      <td>...</td>\n      <td>...</td>\n      <td>...</td>\n      <td>...</td>\n      <td>...</td>\n      <td>...</td>\n      <td>...</td>\n      <td>...</td>\n      <td>...</td>\n      <td>...</td>\n      <td>...</td>\n    </tr>\n    <tr>\n      <th>358921</th>\n      <td>AS14.33</td>\n      <td>2014-05-30 22:32:05.016</td>\n      <td>NaN</td>\n      <td>NaN</td>\n      <td>NaN</td>\n      <td>NaN</td>\n      <td>NaN</td>\n      <td>NaN</td>\n      <td>NaN</td>\n      <td>NaN</td>\n      <td>...</td>\n      <td>NaN</td>\n      <td>6.019</td>\n      <td>NaN</td>\n      <td>NaN</td>\n      <td>NaN</td>\n      <td>NaN</td>\n      <td>NaN</td>\n      <td>NaN</td>\n      <td>NaN</td>\n      <td>NaN</td>\n    </tr>\n    <tr>\n      <th>358922</th>\n      <td>AS14.33</td>\n      <td>2014-05-30 22:32:11.049</td>\n      <td>3.122</td>\n      <td>NaN</td>\n      <td>NaN</td>\n      <td>NaN</td>\n      <td>NaN</td>\n      <td>NaN</td>\n      <td>NaN</td>\n      <td>NaN</td>\n      <td>...</td>\n      <td>NaN</td>\n      <td>NaN</td>\n      <td>NaN</td>\n      <td>NaN</td>\n      <td>NaN</td>\n      <td>NaN</td>\n      <td>NaN</td>\n      <td>NaN</td>\n      <td>NaN</td>\n      <td>NaN</td>\n    </tr>\n    <tr>\n      <th>358923</th>\n      <td>AS14.33</td>\n      <td>2014-05-30 22:32:14.240</td>\n      <td>1.003</td>\n      <td>NaN</td>\n      <td>NaN</td>\n      <td>NaN</td>\n      <td>NaN</td>\n      <td>NaN</td>\n      <td>NaN</td>\n      <td>NaN</td>\n      <td>...</td>\n      <td>NaN</td>\n      <td>NaN</td>\n      <td>NaN</td>\n      <td>NaN</td>\n      <td>NaN</td>\n      <td>NaN</td>\n      <td>NaN</td>\n      <td>NaN</td>\n      <td>NaN</td>\n      <td>NaN</td>\n    </tr>\n    <tr>\n      <th>358924</th>\n      <td>AS14.33</td>\n      <td>2014-05-30 22:32:15.246</td>\n      <td>4.134</td>\n      <td>NaN</td>\n      <td>NaN</td>\n      <td>NaN</td>\n      <td>NaN</td>\n      <td>NaN</td>\n      <td>NaN</td>\n      <td>NaN</td>\n      <td>...</td>\n      <td>NaN</td>\n      <td>NaN</td>\n      <td>NaN</td>\n      <td>NaN</td>\n      <td>NaN</td>\n      <td>NaN</td>\n      <td>NaN</td>\n      <td>NaN</td>\n      <td>NaN</td>\n      <td>NaN</td>\n    </tr>\n    <tr>\n      <th>358925</th>\n      <td>AS14.33</td>\n      <td>2014-05-31 12:00:00.000</td>\n      <td>NaN</td>\n      <td>NaN</td>\n      <td>NaN</td>\n      <td>NaN</td>\n      <td>NaN</td>\n      <td>NaN</td>\n      <td>NaN</td>\n      <td>NaN</td>\n      <td>...</td>\n      <td>NaN</td>\n      <td>NaN</td>\n      <td>NaN</td>\n      <td>NaN</td>\n      <td>NaN</td>\n      <td>NaN</td>\n      <td>NaN</td>\n      <td>-2.0</td>\n      <td>1.0</td>\n      <td>7.0</td>\n    </tr>\n  </tbody>\n</table>\n<p>358926 rows × 21 columns</p>\n</div>"
     },
     "execution_count": 64,
     "metadata": {},
     "output_type": "execute_result"
    }
   ],
   "source": [
    "# Pivot for sum\n",
    "pivot_sum = df[df['variable'].isin(sum_cols)].pivot_table(\n",
    "    index=['id', 'time'], columns='variable', values='value', aggfunc='sum')\n",
    "\n",
    "# Pivot for mean (maybe use median)\n",
    "pivot_mean = df[df['variable'].isin(mean_cols)].pivot_table(\n",
    "    index=['id', 'time'], columns='variable', values='value', aggfunc='mean')\n",
    "\n",
    "# Merge the pivot tables\n",
    "pivot_final = pd.merge(pivot_sum, pivot_mean, on=['id', 'time'], how='outer').reset_index()\n",
    "\n",
    "pivot_final\n",
    "\n"
   ],
   "metadata": {
    "collapsed": false,
    "ExecuteTime": {
     "end_time": "2024-04-16T13:42:18.334644Z",
     "start_time": "2024-04-16T13:42:16.444303Z"
    }
   },
   "id": "ba3239c005ce333d",
   "execution_count": 64
  },
  {
   "cell_type": "code",
   "outputs": [],
   "source": [
    "# pivot_final[~pivot_final['mood'].isnull()]"
   ],
   "metadata": {
    "collapsed": false,
    "ExecuteTime": {
     "end_time": "2024-04-16T13:49:10.926682Z",
     "start_time": "2024-04-16T13:49:10.912737Z"
    }
   },
   "id": "5552b6454a679c17",
   "execution_count": 68
  },
  {
   "cell_type": "code",
   "outputs": [],
   "source": [
    "pivot_df.to_csv('datasets/mood_preprocessed_no_aggr.csv', index=False)\n",
    "pivot_final.to_csv('datasets/mood_preprocessed.csv', index=False)"
   ],
   "metadata": {
    "collapsed": false,
    "ExecuteTime": {
     "end_time": "2024-04-16T13:50:14.707815Z",
     "start_time": "2024-04-16T13:50:09.281279Z"
    }
   },
   "id": "1d26ca17979ad5ff",
   "execution_count": 69
  },
  {
   "cell_type": "code",
   "outputs": [
    {
     "data": {
      "text/plain": "(358944, 21)"
     },
     "execution_count": 75,
     "metadata": {},
     "output_type": "execute_result"
    }
   ],
   "source": [
    "pivot_df.shape"
   ],
   "metadata": {
    "collapsed": false,
    "ExecuteTime": {
     "end_time": "2024-04-16T13:54:59.135663Z",
     "start_time": "2024-04-16T13:54:59.124503Z"
    }
   },
   "id": "87465df2a0f8dbe5",
   "execution_count": 75
  },
  {
   "cell_type": "code",
   "outputs": [
    {
     "data": {
      "text/plain": "(358926, 21)"
     },
     "execution_count": 76,
     "metadata": {},
     "output_type": "execute_result"
    }
   ],
   "source": [
    "pivot_final.shape"
   ],
   "metadata": {
    "collapsed": false,
    "ExecuteTime": {
     "end_time": "2024-04-16T13:55:05.828005Z",
     "start_time": "2024-04-16T13:55:05.814151Z"
    }
   },
   "id": "4159b6d99310ffe6",
   "execution_count": 76
  },
  {
   "cell_type": "code",
   "outputs": [],
   "source": [],
   "metadata": {
    "collapsed": false
   },
   "id": "2830329d7873ab32"
  }
 ],
 "metadata": {
  "kernelspec": {
   "name": "dmt1",
   "language": "python",
   "display_name": "dmt-ass1"
  },
  "language_info": {
   "codemirror_mode": {
    "name": "ipython",
    "version": 2
   },
   "file_extension": ".py",
   "mimetype": "text/x-python",
   "name": "python",
   "nbconvert_exporter": "python",
   "pygments_lexer": "ipython2",
   "version": "2.7.6"
  }
 },
 "nbformat": 4,
 "nbformat_minor": 5
}
