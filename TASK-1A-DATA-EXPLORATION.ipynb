{
 "cells": [
  {
   "cell_type": "code",
   "execution_count": 1,
   "id": "initial_id",
   "metadata": {
    "collapsed": true,
    "ExecuteTime": {
     "end_time": "2024-04-21T10:26:46.866350Z",
     "start_time": "2024-04-21T10:26:46.864333Z"
    }
   },
   "outputs": [],
   "source": [
    "import numpy as np\n",
    "import matplotlib.pyplot as plt\n",
    "import pandas as pd\n",
    "import seaborn as sns"
   ]
  },
  {
   "cell_type": "code",
   "outputs": [
    {
     "data": {
      "text/plain": "   Unnamed: 0       id                     time variable  value\n0           1  AS14.01  2014-02-26 13:00:00.000     mood    6.0\n1           2  AS14.01  2014-02-26 15:00:00.000     mood    6.0\n2           3  AS14.01  2014-02-26 18:00:00.000     mood    6.0\n3           4  AS14.01  2014-02-26 21:00:00.000     mood    7.0\n4           5  AS14.01  2014-02-27 09:00:00.000     mood    6.0",
      "text/html": "<div>\n<style scoped>\n    .dataframe tbody tr th:only-of-type {\n        vertical-align: middle;\n    }\n\n    .dataframe tbody tr th {\n        vertical-align: top;\n    }\n\n    .dataframe thead th {\n        text-align: right;\n    }\n</style>\n<table border=\"1\" class=\"dataframe\">\n  <thead>\n    <tr style=\"text-align: right;\">\n      <th></th>\n      <th>Unnamed: 0</th>\n      <th>id</th>\n      <th>time</th>\n      <th>variable</th>\n      <th>value</th>\n    </tr>\n  </thead>\n  <tbody>\n    <tr>\n      <th>0</th>\n      <td>1</td>\n      <td>AS14.01</td>\n      <td>2014-02-26 13:00:00.000</td>\n      <td>mood</td>\n      <td>6.0</td>\n    </tr>\n    <tr>\n      <th>1</th>\n      <td>2</td>\n      <td>AS14.01</td>\n      <td>2014-02-26 15:00:00.000</td>\n      <td>mood</td>\n      <td>6.0</td>\n    </tr>\n    <tr>\n      <th>2</th>\n      <td>3</td>\n      <td>AS14.01</td>\n      <td>2014-02-26 18:00:00.000</td>\n      <td>mood</td>\n      <td>6.0</td>\n    </tr>\n    <tr>\n      <th>3</th>\n      <td>4</td>\n      <td>AS14.01</td>\n      <td>2014-02-26 21:00:00.000</td>\n      <td>mood</td>\n      <td>7.0</td>\n    </tr>\n    <tr>\n      <th>4</th>\n      <td>5</td>\n      <td>AS14.01</td>\n      <td>2014-02-27 09:00:00.000</td>\n      <td>mood</td>\n      <td>6.0</td>\n    </tr>\n  </tbody>\n</table>\n</div>"
     },
     "execution_count": 2,
     "metadata": {},
     "output_type": "execute_result"
    }
   ],
   "source": [
    "# load the dataset\n",
    "df = pd.read_csv('datasets/dataset_mood_smartphone.csv')\n",
    "df.head()"
   ],
   "metadata": {
    "collapsed": false,
    "ExecuteTime": {
     "end_time": "2024-04-21T10:29:02.310082Z",
     "start_time": "2024-04-21T10:29:01.727578Z"
    }
   },
   "id": "1496ee5d60d97cfc",
   "execution_count": 2
  },
  {
   "cell_type": "code",
   "outputs": [
    {
     "name": "stdout",
     "output_type": "stream",
     "text": [
      "\n",
      "Number of Missing Values in the Dataset:\n",
      "202\n"
     ]
    }
   ],
   "source": [
    "# number of missing values in the dataset\n",
    "print(\"\\nNumber of Missing Values in the Dataset:\")\n",
    "print(df.isnull().sum().sum())"
   ],
   "metadata": {
    "collapsed": false,
    "ExecuteTime": {
     "end_time": "2024-04-21T11:11:17.913356Z",
     "start_time": "2024-04-21T11:11:17.733643Z"
    }
   },
   "id": "b47acf022afdf581",
   "execution_count": 29
  },
  {
   "cell_type": "code",
   "outputs": [
    {
     "name": "stdout",
     "output_type": "stream",
     "text": [
      "\n",
      "Statistical Summary of Numeric Fields:\n"
     ]
    },
    {
     "data": {
      "text/plain": "         Unnamed: 0          value\ncount  3.769120e+05  376710.000000\nmean   4.501273e+05      40.665313\nstd    5.411519e+05     273.726007\nmin    1.000000e+00  -82798.871000\n25%    9.422875e+04       2.025000\n50%    2.274385e+05       7.029000\n75%    5.160412e+05      29.356000\nmax    1.427711e+07   33960.246000",
      "text/html": "<div>\n<style scoped>\n    .dataframe tbody tr th:only-of-type {\n        vertical-align: middle;\n    }\n\n    .dataframe tbody tr th {\n        vertical-align: top;\n    }\n\n    .dataframe thead th {\n        text-align: right;\n    }\n</style>\n<table border=\"1\" class=\"dataframe\">\n  <thead>\n    <tr style=\"text-align: right;\">\n      <th></th>\n      <th>Unnamed: 0</th>\n      <th>value</th>\n    </tr>\n  </thead>\n  <tbody>\n    <tr>\n      <th>count</th>\n      <td>3.769120e+05</td>\n      <td>376710.000000</td>\n    </tr>\n    <tr>\n      <th>mean</th>\n      <td>4.501273e+05</td>\n      <td>40.665313</td>\n    </tr>\n    <tr>\n      <th>std</th>\n      <td>5.411519e+05</td>\n      <td>273.726007</td>\n    </tr>\n    <tr>\n      <th>min</th>\n      <td>1.000000e+00</td>\n      <td>-82798.871000</td>\n    </tr>\n    <tr>\n      <th>25%</th>\n      <td>9.422875e+04</td>\n      <td>2.025000</td>\n    </tr>\n    <tr>\n      <th>50%</th>\n      <td>2.274385e+05</td>\n      <td>7.029000</td>\n    </tr>\n    <tr>\n      <th>75%</th>\n      <td>5.160412e+05</td>\n      <td>29.356000</td>\n    </tr>\n    <tr>\n      <th>max</th>\n      <td>1.427711e+07</td>\n      <td>33960.246000</td>\n    </tr>\n  </tbody>\n</table>\n</div>"
     },
     "execution_count": 7,
     "metadata": {},
     "output_type": "execute_result"
    }
   ],
   "source": [
    "# Statistical summary\n",
    "print(\"\\nStatistical Summary of Numeric Fields:\")\n",
    "df.describe()"
   ],
   "metadata": {
    "collapsed": false,
    "ExecuteTime": {
     "end_time": "2024-04-21T10:30:43.611101Z",
     "start_time": "2024-04-21T10:30:43.542729Z"
    }
   },
   "id": "ae03d9bcf27bb45b",
   "execution_count": 7
  },
  {
   "cell_type": "code",
   "outputs": [
    {
     "name": "stdout",
     "output_type": "stream",
     "text": [
      "\n",
      "Distribution of 'mood' variable:\n",
      "value\n",
      "7.0     2588\n",
      "8.0     1429\n",
      "6.0     1009\n",
      "5.0      258\n",
      "9.0      215\n",
      "4.0       92\n",
      "3.0       17\n",
      "10.0      17\n",
      "2.0       13\n",
      "1.0        3\n",
      "Name: count, dtype: int64\n"
     ]
    },
    {
     "data": {
      "text/plain": "<Figure size 640x480 with 1 Axes>",
      "image/png": "[encoded data removed]"
     },
     "metadata": {},
     "output_type": "display_data"
    }
   ],
   "source": [
    "# Distribution of 'mood' variable, number rows per value of 'mood'\n",
    "print(\"\\nDistribution of 'mood' variable:\")\n",
    "mood_df = df[df['variable'] == 'mood']\n",
    "print(mood_df['value'].value_counts())\n",
    "\n",
    "#plot\n",
    "plt.hist(mood_df['value'], bins=10, color='blue', alpha=0.7)\n",
    "# Add title and labels\n",
    "plt.title('Distribution of Mood Scores')\n",
    "plt.xlabel('Mood Score')\n",
    "plt.ylabel('Frequency')\n",
    "\n",
    "#save the plot\n",
    "plt.savefig('figs/mood_distribution.png')\n",
    "plt.show()\n",
    "\n"
   ],
   "metadata": {
    "collapsed": false,
    "ExecuteTime": {
     "end_time": "2024-04-21T10:46:51.040743Z",
     "start_time": "2024-04-21T10:46:50.693641Z"
    }
   },
   "id": "511a6c5b103c7eb8",
   "execution_count": 17
  },
  {
   "cell_type": "code",
   "outputs": [
    {
     "name": "stdout",
     "output_type": "stream",
     "text": [
      "\n",
      "Missing Values in the Dataset:\n",
      "Unnamed: 0      0\n",
      "id              0\n",
      "time            0\n",
      "variable        0\n",
      "value         202\n",
      "dtype: int64\n",
      "\n",
      "Variable Column where Value is Missing:\n",
      "variable\n",
      "circumplex.valence    156\n",
      "circumplex.arousal     46\n",
      "Name: count, dtype: int64\n"
     ]
    }
   ],
   "source": [
    "# Check for missing values\n",
    "print(\"\\nMissing Values in the Dataset:\")\n",
    "print(df.isnull().sum())\n",
    "\n",
    "# print variable column where value is missing\n",
    "print(\"\\nVariable Column where Value is Missing:\")\n",
    "print(df[df['value'].isnull()]['variable'].value_counts())\n",
    "\n"
   ],
   "metadata": {
    "collapsed": false,
    "ExecuteTime": {
     "end_time": "2024-04-21T10:48:21.635605Z",
     "start_time": "2024-04-21T10:48:21.515881Z"
    }
   },
   "id": "693d728005fad5e9",
   "execution_count": 20
  },
  {
   "cell_type": "code",
   "outputs": [],
   "source": [
    "# load \n",
    "preprocessed_df = pd.read_csv('datasets/mood_preprocessed.csv')"
   ],
   "metadata": {
    "collapsed": false,
    "ExecuteTime": {
     "end_time": "2024-04-21T10:53:37.615218Z",
     "start_time": "2024-04-21T10:53:36.589697Z"
    }
   },
   "id": "38e0a1b2daec9d9a",
   "execution_count": 24
  },
  {
   "cell_type": "code",
   "outputs": [],
   "source": [
    "preprocessed_df.describe().transpose().to_csv('datasets/preprocessed_stats.csv')"
   ],
   "metadata": {
    "collapsed": false,
    "ExecuteTime": {
     "end_time": "2024-04-21T11:31:16.691933Z",
     "start_time": "2024-04-21T11:31:16.114161Z"
    }
   },
   "id": "be754a7e1da60129",
   "execution_count": 33
  },
  {
   "cell_type": "code",
   "outputs": [
    {
     "data": {
      "text/plain": "<Figure size 640x480 with 1 Axes>",
      "image/png": "[encoded data removed]"
     },
     "metadata": {},
     "output_type": "display_data"
    }
   ],
   "source": [
    "# plot appCat.builtin column for user AS14.01\n",
    "user_df = preprocessed_df[preprocessed_df['id'] == 'AS14.01']\n",
    "user_df['appCat.builtin'].plot()\n",
    "plt.title('AppCat.Builtin for User AS14.01')\n",
    "plt.xlabel('Index')\n",
    "plt.ylabel('AppCat.Builtin')\n",
    "plt.savefig('figs/appCat.builtin_AS14.01.png')\n",
    "plt.show()"
   ],
   "metadata": {
    "collapsed": false,
    "ExecuteTime": {
     "end_time": "2024-04-21T11:46:35.812819Z",
     "start_time": "2024-04-21T11:46:35.052374Z"
    }
   },
   "id": "e2ee7b3025721146",
   "execution_count": 34
  },
  {
   "cell_type": "code",
   "outputs": [
    {
     "name": "stdout",
     "output_type": "stream",
     "text": [
      "\n",
      "Number of Unique Users:\n",
      "27\n"
     ]
    }
   ],
   "source": [
    "# print number of users\n",
    "print(\"\\nNumber of Unique Users:\")\n",
    "print(preprocessed_df['id'].nunique())\n"
   ],
   "metadata": {
    "collapsed": false,
    "ExecuteTime": {
     "end_time": "2024-04-21T11:47:39.418094Z",
     "start_time": "2024-04-21T11:47:39.375447Z"
    }
   },
   "id": "d7e8b715ddd128c1",
   "execution_count": 35
  },
  {
   "cell_type": "code",
   "outputs": [
    {
     "name": "stdout",
     "output_type": "stream",
     "text": [
      "\n",
      "First and Last Date in the Dataset:\n",
      "2014-02-17 07:00:52.197\n",
      "2014-06-09 00:00:00.000\n"
     ]
    }
   ],
   "source": [
    "# print first and last date in the dataset\n",
    "print(\"\\nFirst and Last Date in the Dataset:\")\n",
    "print(preprocessed_df['time'].min())\n",
    "print(preprocessed_df['time'].max())\n"
   ],
   "metadata": {
    "collapsed": false,
    "ExecuteTime": {
     "end_time": "2024-04-21T11:52:03.110491Z",
     "start_time": "2024-04-21T11:52:03.036165Z"
    }
   },
   "id": "7b9796f64ffc431",
   "execution_count": 37
  },
  {
   "cell_type": "code",
   "outputs": [],
   "source": [],
   "metadata": {
    "collapsed": false
   },
   "id": "f246058ace0dc30d"
  }
 ],
 "metadata": {
  "kernelspec": {
   "name": "dmt1",
   "language": "python",
   "display_name": "dmt-ass1"
  },
  "language_info": {
   "codemirror_mode": {
    "name": "ipython",
    "version": 2
   },
   "file_extension": ".py",
   "mimetype": "text/x-python",
   "name": "python",
   "nbconvert_exporter": "python",
   "pygments_lexer": "ipython2",
   "version": "2.7.6"
  }
 },
 "nbformat": 4,
 "nbformat_minor": 5
}
