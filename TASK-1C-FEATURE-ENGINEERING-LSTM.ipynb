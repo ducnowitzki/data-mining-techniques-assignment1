{
 "cells": [
  {
   "cell_type": "code",
   "execution_count": 1,
   "id": "initial_id",
   "metadata": {
    "collapsed": true,
    "ExecuteTime": {
     "end_time": "2024-04-20T21:31:06.804720Z",
     "start_time": "2024-04-20T21:31:06.046190Z"
    }
   },
   "outputs": [],
   "source": [
    "import pandas as pd"
   ]
  },
  {
   "cell_type": "code",
   "outputs": [
    {
     "data": {
      "text/plain": "           date       id       screen  call  sms  appCat.builtin  \\\n0    2014-02-17  AS14.01     0.000000   2.0  0.0           0.000   \n1    2014-02-17  AS14.02     0.000000   4.0  2.0           0.000   \n2    2014-02-17  AS14.03     0.000000   0.0  1.0           0.000   \n3    2014-02-17  AS14.06     0.000000   5.0  0.0           0.000   \n4    2014-02-17  AS14.08     0.000000   0.0  4.0           0.000   \n...         ...      ...          ...   ...  ...             ...   \n1968 2014-06-05  AS14.24  1620.056999  11.0  0.0         801.994   \n1969 2014-06-06  AS14.24  2169.781000  16.0  0.0         838.897   \n1970 2014-06-07  AS14.24  1121.516999   0.0  2.0         171.285   \n1971 2014-06-08  AS14.24   111.459000   0.0  0.0          88.239   \n1972 2014-06-09  AS14.24     0.000000   0.0  0.0           0.000   \n\n      appCat.communication  appCat.entertainment  appCat.finance  appCat.game  \\\n0                    0.000                   0.0             0.0          0.0   \n1                    0.000                   0.0             0.0          0.0   \n2                    0.000                   0.0             0.0          0.0   \n3                    0.000                   0.0             0.0          0.0   \n4                    0.000                   0.0             0.0          0.0   \n...                    ...                   ...             ...          ...   \n1968               795.073                   0.0             0.0          0.0   \n1969              1205.799                   0.0             0.0          0.0   \n1970               411.638                   0.0             0.0          0.0   \n1971                 3.042                   0.0             0.0          0.0   \n1972                 0.000                   0.0             0.0          0.0   \n\n      ...  circumplex.arousal  circumplex.valence  activity  mood  weekday  \\\n0     ...           -1.000000                 0.0  0.071429   6.0        0   \n1     ...            0.000000                 1.0  0.142857   7.0        0   \n2     ...            1.000000                 2.0  0.290000   9.0        0   \n3     ...           -1.000000                 0.0  0.120000   7.0        0   \n4     ...            0.000000                 1.0  0.000000   7.0        0   \n...   ...                 ...                 ...       ...   ...      ...   \n1968  ...            0.223077                 1.0  0.253627   7.0        3   \n1969  ...            0.702128                 1.0  0.287322   7.0        4   \n1970  ...            0.333333                 1.0  0.317301   8.0        5   \n1971  ...           -1.409091                 1.0  0.102054   7.0        6   \n1972  ...           -1.000000                 1.0  0.250000   7.0        0   \n\n      is_weekend  is_summer  is_winter  is_spring  is_autumn  \n0              0          0          1          0          0  \n1              0          0          1          0          0  \n2              0          0          1          0          0  \n3              0          0          1          0          0  \n4              0          0          1          0          0  \n...          ...        ...        ...        ...        ...  \n1968           0          1          0          0          0  \n1969           0          1          0          0          0  \n1970           1          1          0          0          0  \n1971           1          1          0          0          0  \n1972           0          1          0          0          0  \n\n[1973 rows x 27 columns]",
      "text/html": "<div>\n<style scoped>\n    .dataframe tbody tr th:only-of-type {\n        vertical-align: middle;\n    }\n\n    .dataframe tbody tr th {\n        vertical-align: top;\n    }\n\n    .dataframe thead th {\n        text-align: right;\n    }\n</style>\n<table border=\"1\" class=\"dataframe\">\n  <thead>\n    <tr style=\"text-align: right;\">\n      <th></th>\n      <th>date</th>\n      <th>id</th>\n      <th>screen</th>\n      <th>call</th>\n      <th>sms</th>\n      <th>appCat.builtin</th>\n      <th>appCat.communication</th>\n      <th>appCat.entertainment</th>\n      <th>appCat.finance</th>\n      <th>appCat.game</th>\n      <th>...</th>\n      <th>circumplex.arousal</th>\n      <th>circumplex.valence</th>\n      <th>activity</th>\n      <th>mood</th>\n      <th>weekday</th>\n      <th>is_weekend</th>\n      <th>is_summer</th>\n      <th>is_winter</th>\n      <th>is_spring</th>\n      <th>is_autumn</th>\n    </tr>\n  </thead>\n  <tbody>\n    <tr>\n      <th>0</th>\n      <td>2014-02-17</td>\n      <td>AS14.01</td>\n      <td>0.000000</td>\n      <td>2.0</td>\n      <td>0.0</td>\n      <td>0.000</td>\n      <td>0.000</td>\n      <td>0.0</td>\n      <td>0.0</td>\n      <td>0.0</td>\n      <td>...</td>\n      <td>-1.000000</td>\n      <td>0.0</td>\n      <td>0.071429</td>\n      <td>6.0</td>\n      <td>0</td>\n      <td>0</td>\n      <td>0</td>\n      <td>1</td>\n      <td>0</td>\n      <td>0</td>\n    </tr>\n    <tr>\n      <th>1</th>\n      <td>2014-02-17</td>\n      <td>AS14.02</td>\n      <td>0.000000</td>\n      <td>4.0</td>\n      <td>2.0</td>\n      <td>0.000</td>\n      <td>0.000</td>\n      <td>0.0</td>\n      <td>0.0</td>\n      <td>0.0</td>\n      <td>...</td>\n      <td>0.000000</td>\n      <td>1.0</td>\n      <td>0.142857</td>\n      <td>7.0</td>\n      <td>0</td>\n      <td>0</td>\n      <td>0</td>\n      <td>1</td>\n      <td>0</td>\n      <td>0</td>\n    </tr>\n    <tr>\n      <th>2</th>\n      <td>2014-02-17</td>\n      <td>AS14.03</td>\n      <td>0.000000</td>\n      <td>0.0</td>\n      <td>1.0</td>\n      <td>0.000</td>\n      <td>0.000</td>\n      <td>0.0</td>\n      <td>0.0</td>\n      <td>0.0</td>\n      <td>...</td>\n      <td>1.000000</td>\n      <td>2.0</td>\n      <td>0.290000</td>\n      <td>9.0</td>\n      <td>0</td>\n      <td>0</td>\n      <td>0</td>\n      <td>1</td>\n      <td>0</td>\n      <td>0</td>\n    </tr>\n    <tr>\n      <th>3</th>\n      <td>2014-02-17</td>\n      <td>AS14.06</td>\n      <td>0.000000</td>\n      <td>5.0</td>\n      <td>0.0</td>\n      <td>0.000</td>\n      <td>0.000</td>\n      <td>0.0</td>\n      <td>0.0</td>\n      <td>0.0</td>\n      <td>...</td>\n      <td>-1.000000</td>\n      <td>0.0</td>\n      <td>0.120000</td>\n      <td>7.0</td>\n      <td>0</td>\n      <td>0</td>\n      <td>0</td>\n      <td>1</td>\n      <td>0</td>\n      <td>0</td>\n    </tr>\n    <tr>\n      <th>4</th>\n      <td>2014-02-17</td>\n      <td>AS14.08</td>\n      <td>0.000000</td>\n      <td>0.0</td>\n      <td>4.0</td>\n      <td>0.000</td>\n      <td>0.000</td>\n      <td>0.0</td>\n      <td>0.0</td>\n      <td>0.0</td>\n      <td>...</td>\n      <td>0.000000</td>\n      <td>1.0</td>\n      <td>0.000000</td>\n      <td>7.0</td>\n      <td>0</td>\n      <td>0</td>\n      <td>0</td>\n      <td>1</td>\n      <td>0</td>\n      <td>0</td>\n    </tr>\n    <tr>\n      <th>...</th>\n      <td>...</td>\n      <td>...</td>\n      <td>...</td>\n      <td>...</td>\n      <td>...</td>\n      <td>...</td>\n      <td>...</td>\n      <td>...</td>\n      <td>...</td>\n      <td>...</td>\n      <td>...</td>\n      <td>...</td>\n      <td>...</td>\n      <td>...</td>\n      <td>...</td>\n      <td>...</td>\n      <td>...</td>\n      <td>...</td>\n      <td>...</td>\n      <td>...</td>\n      <td>...</td>\n    </tr>\n    <tr>\n      <th>1968</th>\n      <td>2014-06-05</td>\n      <td>AS14.24</td>\n      <td>1620.056999</td>\n      <td>11.0</td>\n      <td>0.0</td>\n      <td>801.994</td>\n      <td>795.073</td>\n      <td>0.0</td>\n      <td>0.0</td>\n      <td>0.0</td>\n      <td>...</td>\n      <td>0.223077</td>\n      <td>1.0</td>\n      <td>0.253627</td>\n      <td>7.0</td>\n      <td>3</td>\n      <td>0</td>\n      <td>1</td>\n      <td>0</td>\n      <td>0</td>\n      <td>0</td>\n    </tr>\n    <tr>\n      <th>1969</th>\n      <td>2014-06-06</td>\n      <td>AS14.24</td>\n      <td>2169.781000</td>\n      <td>16.0</td>\n      <td>0.0</td>\n      <td>838.897</td>\n      <td>1205.799</td>\n      <td>0.0</td>\n      <td>0.0</td>\n      <td>0.0</td>\n      <td>...</td>\n      <td>0.702128</td>\n      <td>1.0</td>\n      <td>0.287322</td>\n      <td>7.0</td>\n      <td>4</td>\n      <td>0</td>\n      <td>1</td>\n      <td>0</td>\n      <td>0</td>\n      <td>0</td>\n    </tr>\n    <tr>\n      <th>1970</th>\n      <td>2014-06-07</td>\n      <td>AS14.24</td>\n      <td>1121.516999</td>\n      <td>0.0</td>\n      <td>2.0</td>\n      <td>171.285</td>\n      <td>411.638</td>\n      <td>0.0</td>\n      <td>0.0</td>\n      <td>0.0</td>\n      <td>...</td>\n      <td>0.333333</td>\n      <td>1.0</td>\n      <td>0.317301</td>\n      <td>8.0</td>\n      <td>5</td>\n      <td>1</td>\n      <td>1</td>\n      <td>0</td>\n      <td>0</td>\n      <td>0</td>\n    </tr>\n    <tr>\n      <th>1971</th>\n      <td>2014-06-08</td>\n      <td>AS14.24</td>\n      <td>111.459000</td>\n      <td>0.0</td>\n      <td>0.0</td>\n      <td>88.239</td>\n      <td>3.042</td>\n      <td>0.0</td>\n      <td>0.0</td>\n      <td>0.0</td>\n      <td>...</td>\n      <td>-1.409091</td>\n      <td>1.0</td>\n      <td>0.102054</td>\n      <td>7.0</td>\n      <td>6</td>\n      <td>1</td>\n      <td>1</td>\n      <td>0</td>\n      <td>0</td>\n      <td>0</td>\n    </tr>\n    <tr>\n      <th>1972</th>\n      <td>2014-06-09</td>\n      <td>AS14.24</td>\n      <td>0.000000</td>\n      <td>0.0</td>\n      <td>0.0</td>\n      <td>0.000</td>\n      <td>0.000</td>\n      <td>0.0</td>\n      <td>0.0</td>\n      <td>0.0</td>\n      <td>...</td>\n      <td>-1.000000</td>\n      <td>1.0</td>\n      <td>0.250000</td>\n      <td>7.0</td>\n      <td>0</td>\n      <td>0</td>\n      <td>1</td>\n      <td>0</td>\n      <td>0</td>\n      <td>0</td>\n    </tr>\n  </tbody>\n</table>\n<p>1973 rows × 27 columns</p>\n</div>"
     },
     "execution_count": 44,
     "metadata": {},
     "output_type": "execute_result"
    }
   ],
   "source": [
    "# load\n",
    "data_df = pd.read_csv('datasets/mood_preprocessed_aggr_per_day_features.csv')\n",
    "data_df['date'] = pd.to_datetime(data_df['date'])\n",
    "data_df"
   ],
   "metadata": {
    "collapsed": false,
    "ExecuteTime": {
     "end_time": "2024-04-21T10:10:30.233057Z",
     "start_time": "2024-04-21T10:10:29.985436Z"
    }
   },
   "id": "32903215d32a0a40",
   "execution_count": 44
  },
  {
   "cell_type": "code",
   "outputs": [],
   "source": [
    "def create_user_specific_windows_and_targets(data, target_column, window_size):\n",
    "    windows = []\n",
    "    targets = []\n",
    "    \n",
    "    # Iterate over each unique user to ensure windows are user-specific\n",
    "    for user in data['id'].unique():\n",
    "        user_data = data[data['id'] == user]\n",
    "        \n",
    "        for i in range(len(user_data) - window_size):\n",
    "            end_ix = i + window_size\n",
    "            \n",
    "            # Ensure we do not go out of bounds when accessing the target\n",
    "            if end_ix >= len(user_data):\n",
    "                break\n",
    "\n",
    "            # Extract the window and target, excluding the target column from the window\n",
    "            window = user_data.iloc[i:end_ix].drop(columns=[target_column, 'id']).values.tolist()\n",
    "            target = user_data.iloc[end_ix][target_column]\n",
    "            windows.append(window)\n",
    "            targets.append(target)\n",
    "\n",
    "    return windows, targets\n",
    "\n"
   ],
   "metadata": {
    "collapsed": false,
    "ExecuteTime": {
     "end_time": "2024-04-21T10:10:31.677198Z",
     "start_time": "2024-04-21T10:10:31.667579Z"
    }
   },
   "id": "8381998848848640",
   "execution_count": 45
  },
  {
   "cell_type": "code",
   "outputs": [],
   "source": [
    "# window size\n",
    "n = 5 \n",
    "\n",
    "windows, targets = create_user_specific_windows_and_targets(data_df, 'mood', n)"
   ],
   "metadata": {
    "collapsed": false,
    "ExecuteTime": {
     "end_time": "2024-04-21T10:10:33.894548Z",
     "start_time": "2024-04-21T10:10:32.152743Z"
    }
   },
   "id": "3435d3b3c70409ca",
   "execution_count": 46
  },
  {
   "cell_type": "code",
   "outputs": [],
   "source": [
    "# Function to split data into train and test sets\n",
    "def train_test_split(data, train_size=0.8):\n",
    "    split_index = int(len(data) * train_size)\n",
    "    train_data = data[:split_index]\n",
    "    test_data = data[split_index:]\n",
    "    return train_data, test_data\n",
    "\n"
   ],
   "metadata": {
    "collapsed": false,
    "ExecuteTime": {
     "end_time": "2024-04-21T10:10:33.900351Z",
     "start_time": "2024-04-21T10:10:33.896691Z"
    }
   },
   "id": "ecb1a5f1e736f1c7",
   "execution_count": 47
  },
  {
   "cell_type": "code",
   "outputs": [],
   "source": [
    "# Apply the train-test split to both windows and targets\n",
    "train_windows, test_windows = train_test_split(windows, 0.95)\n",
    "train_targets, test_targets = train_test_split(targets, 0.95)\n"
   ],
   "metadata": {
    "collapsed": false,
    "ExecuteTime": {
     "end_time": "2024-04-21T10:10:33.906172Z",
     "start_time": "2024-04-21T10:10:33.902214Z"
    }
   },
   "id": "bdddf346d9835487",
   "execution_count": 48
  },
  {
   "cell_type": "code",
   "outputs": [],
   "source": [
    "# Avoid leakage, delete last n-1 datapoints in training set\n",
    "for _ in range(n-1):\n",
    "    del train_targets[-1]\n",
    "    del train_windows[-1]"
   ],
   "metadata": {
    "collapsed": false,
    "ExecuteTime": {
     "end_time": "2024-04-21T10:10:34.872784Z",
     "start_time": "2024-04-21T10:10:34.849730Z"
    }
   },
   "id": "1abd1cd31bef2183",
   "execution_count": 49
  },
  {
   "cell_type": "code",
   "outputs": [],
   "source": [],
   "metadata": {
    "collapsed": false
   },
   "id": "beb6f32c6229f208"
  }
 ],
 "metadata": {
  "kernelspec": {
   "display_name": "Python 3",
   "language": "python",
   "name": "python3"
  },
  "language_info": {
   "codemirror_mode": {
    "name": "ipython",
    "version": 2
   },
   "file_extension": ".py",
   "mimetype": "text/x-python",
   "name": "python",
   "nbconvert_exporter": "python",
   "pygments_lexer": "ipython2",
   "version": "2.7.6"
  }
 },
 "nbformat": 4,
 "nbformat_minor": 5
}
