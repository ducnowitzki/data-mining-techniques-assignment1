{
 "cells": [
  {
   "cell_type": "code",
   "execution_count": 7,
   "id": "initial_id",
   "metadata": {
    "collapsed": true,
    "ExecuteTime": {
     "end_time": "2024-04-21T09:10:35.771429Z",
     "start_time": "2024-04-21T09:10:35.760208Z"
    }
   },
   "outputs": [],
   "source": [
    "import pandas as pd\n",
    "import numpy as np"
   ]
  },
  {
   "cell_type": "code",
   "outputs": [
    {
     "data": {
      "text/plain": "           date       id       screen  call  sms  appCat.builtin  \\\n0    2014-02-17  AS14.01     0.000000   2.0  0.0           0.000   \n1    2014-02-17  AS14.02     0.000000   4.0  2.0           0.000   \n2    2014-02-17  AS14.03     0.000000   0.0  1.0           0.000   \n3    2014-02-17  AS14.06     0.000000   5.0  0.0           0.000   \n4    2014-02-17  AS14.08     0.000000   0.0  4.0           0.000   \n...         ...      ...          ...   ...  ...             ...   \n1968 2014-06-05  AS14.24  1620.056999  11.0  0.0         801.994   \n1969 2014-06-06  AS14.24  2169.781000  16.0  0.0         838.897   \n1970 2014-06-07  AS14.24  1121.516999   0.0  2.0         171.285   \n1971 2014-06-08  AS14.24   111.459000   0.0  0.0          88.239   \n1972 2014-06-09  AS14.24     0.000000   0.0  0.0           0.000   \n\n      appCat.communication  appCat.entertainment  appCat.finance  appCat.game  \\\n0                    0.000                   0.0             0.0          0.0   \n1                    0.000                   0.0             0.0          0.0   \n2                    0.000                   0.0             0.0          0.0   \n3                    0.000                   0.0             0.0          0.0   \n4                    0.000                   0.0             0.0          0.0   \n...                    ...                   ...             ...          ...   \n1968               795.073                   0.0             0.0          0.0   \n1969              1205.799                   0.0             0.0          0.0   \n1970               411.638                   0.0             0.0          0.0   \n1971                 3.042                   0.0             0.0          0.0   \n1972                 0.000                   0.0             0.0          0.0   \n\n      ...  appCat.other  appCat.social  appCat.travel  appCat.unknown  \\\n0     ...         0.000          0.000          0.000             0.0   \n1     ...         0.000          0.000          0.000             0.0   \n2     ...         0.000          0.000          0.000             0.0   \n3     ...         0.000          0.000          0.000             0.0   \n4     ...         0.000          0.000          0.000             0.0   \n...   ...           ...            ...            ...             ...   \n1968  ...        47.360        171.964        225.737             0.0   \n1969  ...        36.414          0.000          0.000             0.0   \n1970  ...         6.214        106.850          0.000             0.0   \n1971  ...        18.069          0.000          0.000             0.0   \n1972  ...         0.000          0.000          0.000             0.0   \n\n      appCat.utilities  appCat.weather  circumplex.arousal  \\\n0                0.000             0.0           -1.000000   \n1                0.000             0.0            0.000000   \n2                0.000             0.0            1.000000   \n3                0.000             0.0           -1.000000   \n4                0.000             0.0            0.000000   \n...                ...             ...                 ...   \n1968             0.000             0.0            0.223077   \n1969             2.072             0.0            0.702128   \n1970             0.000             0.0            0.333333   \n1971             0.000             0.0           -1.409091   \n1972             0.000             0.0           -1.000000   \n\n      circumplex.valence  activity  mood  \n0                    0.0  0.071429   6.0  \n1                    1.0  0.142857   7.0  \n2                    2.0  0.290000   9.0  \n3                    0.0  0.120000   7.0  \n4                    1.0  0.000000   7.0  \n...                  ...       ...   ...  \n1968                 1.0  0.253627   7.0  \n1969                 1.0  0.287322   7.0  \n1970                 1.0  0.317301   8.0  \n1971                 1.0  0.102054   7.0  \n1972                 1.0  0.250000   7.0  \n\n[1973 rows x 21 columns]",
      "text/html": "<div>\n<style scoped>\n    .dataframe tbody tr th:only-of-type {\n        vertical-align: middle;\n    }\n\n    .dataframe tbody tr th {\n        vertical-align: top;\n    }\n\n    .dataframe thead th {\n        text-align: right;\n    }\n</style>\n<table border=\"1\" class=\"dataframe\">\n  <thead>\n    <tr style=\"text-align: right;\">\n      <th></th>\n      <th>date</th>\n      <th>id</th>\n      <th>screen</th>\n      <th>call</th>\n      <th>sms</th>\n      <th>appCat.builtin</th>\n      <th>appCat.communication</th>\n      <th>appCat.entertainment</th>\n      <th>appCat.finance</th>\n      <th>appCat.game</th>\n      <th>...</th>\n      <th>appCat.other</th>\n      <th>appCat.social</th>\n      <th>appCat.travel</th>\n      <th>appCat.unknown</th>\n      <th>appCat.utilities</th>\n      <th>appCat.weather</th>\n      <th>circumplex.arousal</th>\n      <th>circumplex.valence</th>\n      <th>activity</th>\n      <th>mood</th>\n    </tr>\n  </thead>\n  <tbody>\n    <tr>\n      <th>0</th>\n      <td>2014-02-17</td>\n      <td>AS14.01</td>\n      <td>0.000000</td>\n      <td>2.0</td>\n      <td>0.0</td>\n      <td>0.000</td>\n      <td>0.000</td>\n      <td>0.0</td>\n      <td>0.0</td>\n      <td>0.0</td>\n      <td>...</td>\n      <td>0.000</td>\n      <td>0.000</td>\n      <td>0.000</td>\n      <td>0.0</td>\n      <td>0.000</td>\n      <td>0.0</td>\n      <td>-1.000000</td>\n      <td>0.0</td>\n      <td>0.071429</td>\n      <td>6.0</td>\n    </tr>\n    <tr>\n      <th>1</th>\n      <td>2014-02-17</td>\n      <td>AS14.02</td>\n      <td>0.000000</td>\n      <td>4.0</td>\n      <td>2.0</td>\n      <td>0.000</td>\n      <td>0.000</td>\n      <td>0.0</td>\n      <td>0.0</td>\n      <td>0.0</td>\n      <td>...</td>\n      <td>0.000</td>\n      <td>0.000</td>\n      <td>0.000</td>\n      <td>0.0</td>\n      <td>0.000</td>\n      <td>0.0</td>\n      <td>0.000000</td>\n      <td>1.0</td>\n      <td>0.142857</td>\n      <td>7.0</td>\n    </tr>\n    <tr>\n      <th>2</th>\n      <td>2014-02-17</td>\n      <td>AS14.03</td>\n      <td>0.000000</td>\n      <td>0.0</td>\n      <td>1.0</td>\n      <td>0.000</td>\n      <td>0.000</td>\n      <td>0.0</td>\n      <td>0.0</td>\n      <td>0.0</td>\n      <td>...</td>\n      <td>0.000</td>\n      <td>0.000</td>\n      <td>0.000</td>\n      <td>0.0</td>\n      <td>0.000</td>\n      <td>0.0</td>\n      <td>1.000000</td>\n      <td>2.0</td>\n      <td>0.290000</td>\n      <td>9.0</td>\n    </tr>\n    <tr>\n      <th>3</th>\n      <td>2014-02-17</td>\n      <td>AS14.06</td>\n      <td>0.000000</td>\n      <td>5.0</td>\n      <td>0.0</td>\n      <td>0.000</td>\n      <td>0.000</td>\n      <td>0.0</td>\n      <td>0.0</td>\n      <td>0.0</td>\n      <td>...</td>\n      <td>0.000</td>\n      <td>0.000</td>\n      <td>0.000</td>\n      <td>0.0</td>\n      <td>0.000</td>\n      <td>0.0</td>\n      <td>-1.000000</td>\n      <td>0.0</td>\n      <td>0.120000</td>\n      <td>7.0</td>\n    </tr>\n    <tr>\n      <th>4</th>\n      <td>2014-02-17</td>\n      <td>AS14.08</td>\n      <td>0.000000</td>\n      <td>0.0</td>\n      <td>4.0</td>\n      <td>0.000</td>\n      <td>0.000</td>\n      <td>0.0</td>\n      <td>0.0</td>\n      <td>0.0</td>\n      <td>...</td>\n      <td>0.000</td>\n      <td>0.000</td>\n      <td>0.000</td>\n      <td>0.0</td>\n      <td>0.000</td>\n      <td>0.0</td>\n      <td>0.000000</td>\n      <td>1.0</td>\n      <td>0.000000</td>\n      <td>7.0</td>\n    </tr>\n    <tr>\n      <th>...</th>\n      <td>...</td>\n      <td>...</td>\n      <td>...</td>\n      <td>...</td>\n      <td>...</td>\n      <td>...</td>\n      <td>...</td>\n      <td>...</td>\n      <td>...</td>\n      <td>...</td>\n      <td>...</td>\n      <td>...</td>\n      <td>...</td>\n      <td>...</td>\n      <td>...</td>\n      <td>...</td>\n      <td>...</td>\n      <td>...</td>\n      <td>...</td>\n      <td>...</td>\n      <td>...</td>\n    </tr>\n    <tr>\n      <th>1968</th>\n      <td>2014-06-05</td>\n      <td>AS14.24</td>\n      <td>1620.056999</td>\n      <td>11.0</td>\n      <td>0.0</td>\n      <td>801.994</td>\n      <td>795.073</td>\n      <td>0.0</td>\n      <td>0.0</td>\n      <td>0.0</td>\n      <td>...</td>\n      <td>47.360</td>\n      <td>171.964</td>\n      <td>225.737</td>\n      <td>0.0</td>\n      <td>0.000</td>\n      <td>0.0</td>\n      <td>0.223077</td>\n      <td>1.0</td>\n      <td>0.253627</td>\n      <td>7.0</td>\n    </tr>\n    <tr>\n      <th>1969</th>\n      <td>2014-06-06</td>\n      <td>AS14.24</td>\n      <td>2169.781000</td>\n      <td>16.0</td>\n      <td>0.0</td>\n      <td>838.897</td>\n      <td>1205.799</td>\n      <td>0.0</td>\n      <td>0.0</td>\n      <td>0.0</td>\n      <td>...</td>\n      <td>36.414</td>\n      <td>0.000</td>\n      <td>0.000</td>\n      <td>0.0</td>\n      <td>2.072</td>\n      <td>0.0</td>\n      <td>0.702128</td>\n      <td>1.0</td>\n      <td>0.287322</td>\n      <td>7.0</td>\n    </tr>\n    <tr>\n      <th>1970</th>\n      <td>2014-06-07</td>\n      <td>AS14.24</td>\n      <td>1121.516999</td>\n      <td>0.0</td>\n      <td>2.0</td>\n      <td>171.285</td>\n      <td>411.638</td>\n      <td>0.0</td>\n      <td>0.0</td>\n      <td>0.0</td>\n      <td>...</td>\n      <td>6.214</td>\n      <td>106.850</td>\n      <td>0.000</td>\n      <td>0.0</td>\n      <td>0.000</td>\n      <td>0.0</td>\n      <td>0.333333</td>\n      <td>1.0</td>\n      <td>0.317301</td>\n      <td>8.0</td>\n    </tr>\n    <tr>\n      <th>1971</th>\n      <td>2014-06-08</td>\n      <td>AS14.24</td>\n      <td>111.459000</td>\n      <td>0.0</td>\n      <td>0.0</td>\n      <td>88.239</td>\n      <td>3.042</td>\n      <td>0.0</td>\n      <td>0.0</td>\n      <td>0.0</td>\n      <td>...</td>\n      <td>18.069</td>\n      <td>0.000</td>\n      <td>0.000</td>\n      <td>0.0</td>\n      <td>0.000</td>\n      <td>0.0</td>\n      <td>-1.409091</td>\n      <td>1.0</td>\n      <td>0.102054</td>\n      <td>7.0</td>\n    </tr>\n    <tr>\n      <th>1972</th>\n      <td>2014-06-09</td>\n      <td>AS14.24</td>\n      <td>0.000000</td>\n      <td>0.0</td>\n      <td>0.0</td>\n      <td>0.000</td>\n      <td>0.000</td>\n      <td>0.0</td>\n      <td>0.0</td>\n      <td>0.0</td>\n      <td>...</td>\n      <td>0.000</td>\n      <td>0.000</td>\n      <td>0.000</td>\n      <td>0.0</td>\n      <td>0.000</td>\n      <td>0.0</td>\n      <td>-1.000000</td>\n      <td>1.0</td>\n      <td>0.250000</td>\n      <td>7.0</td>\n    </tr>\n  </tbody>\n</table>\n<p>1973 rows × 21 columns</p>\n</div>"
     },
     "execution_count": 2,
     "metadata": {},
     "output_type": "execute_result"
    }
   ],
   "source": [
    "# load\n",
    "data_df = pd.read_csv('datasets/mood_preprocessed_aggr_per_day.csv')\n",
    "data_df['date'] = pd.to_datetime(data_df['date'])\n",
    "data_df"
   ],
   "metadata": {
    "collapsed": false,
    "ExecuteTime": {
     "end_time": "2024-04-21T08:40:47.803099Z",
     "start_time": "2024-04-21T08:40:47.674377Z"
    }
   },
   "id": "8478145e2c6bc23a",
   "execution_count": 2
  },
  {
   "cell_type": "raw",
   "source": [
    "@HANJUN: EVERYTHING FROM HERE NEEDS TO BE IN 2A SVM"
   ],
   "metadata": {
    "collapsed": false
   },
   "id": "fcd40eed1f40589"
  },
  {
   "cell_type": "code",
   "outputs": [],
   "source": [
    "# remove weekday column"
   ],
   "metadata": {
    "collapsed": false
   },
   "id": "e0f63a693a5057b9"
  },
  {
   "cell_type": "code",
   "outputs": [],
   "source": [
    "sum_cols = [\n",
    "    'screen', 'call', 'sms', 'appCat.builtin', 'appCat.communication',\n",
    "    'appCat.entertainment', 'appCat.finance', 'appCat.game',\n",
    "    'appCat.office', 'appCat.other', 'appCat.social', 'appCat.travel',\n",
    "    'appCat.unknown', 'appCat.utilities', 'appCat.weather'\n",
    "] \n",
    "mean_cols = ['circumplex.arousal', 'circumplex.valence', 'activity', 'mood']\n",
    "# max_cols = ['weekend']"
   ],
   "metadata": {
    "collapsed": false,
    "ExecuteTime": {
     "end_time": "2024-04-21T09:10:02.245422Z",
     "start_time": "2024-04-21T09:10:02.228161Z"
    }
   },
   "id": "20f659f6b20518eb",
   "execution_count": 3
  },
  {
   "cell_type": "code",
   "outputs": [],
   "source": [
    "n_days = 5\n",
    "\n",
    "data_df.sort_values(by=['id', 'date'], inplace=True)\n",
    "data_df['period'] = data_df.groupby('id').cumcount() // n_days"
   ],
   "metadata": {
    "collapsed": false,
    "ExecuteTime": {
     "end_time": "2024-04-21T09:24:27.450531Z",
     "start_time": "2024-04-21T09:24:27.387231Z"
    }
   },
   "id": "a4d7a70adae8eecb",
   "execution_count": 20
  },
  {
   "cell_type": "code",
   "outputs": [
    {
     "data": {
      "text/plain": "           id  period\n0     AS14.01       0\n23    AS14.01       0\n44    AS14.01       0\n64    AS14.01       0\n82    AS14.01       0\n...       ...     ...\n1952  AS14.33      19\n1955  AS14.33      19\n1958  AS14.33      19\n1961  AS14.33      19\n1963  AS14.33      20\n\n[1973 rows x 2 columns]",
      "text/html": "<div>\n<style scoped>\n    .dataframe tbody tr th:only-of-type {\n        vertical-align: middle;\n    }\n\n    .dataframe tbody tr th {\n        vertical-align: top;\n    }\n\n    .dataframe thead th {\n        text-align: right;\n    }\n</style>\n<table border=\"1\" class=\"dataframe\">\n  <thead>\n    <tr style=\"text-align: right;\">\n      <th></th>\n      <th>id</th>\n      <th>period</th>\n    </tr>\n  </thead>\n  <tbody>\n    <tr>\n      <th>0</th>\n      <td>AS14.01</td>\n      <td>0</td>\n    </tr>\n    <tr>\n      <th>23</th>\n      <td>AS14.01</td>\n      <td>0</td>\n    </tr>\n    <tr>\n      <th>44</th>\n      <td>AS14.01</td>\n      <td>0</td>\n    </tr>\n    <tr>\n      <th>64</th>\n      <td>AS14.01</td>\n      <td>0</td>\n    </tr>\n    <tr>\n      <th>82</th>\n      <td>AS14.01</td>\n      <td>0</td>\n    </tr>\n    <tr>\n      <th>...</th>\n      <td>...</td>\n      <td>...</td>\n    </tr>\n    <tr>\n      <th>1952</th>\n      <td>AS14.33</td>\n      <td>19</td>\n    </tr>\n    <tr>\n      <th>1955</th>\n      <td>AS14.33</td>\n      <td>19</td>\n    </tr>\n    <tr>\n      <th>1958</th>\n      <td>AS14.33</td>\n      <td>19</td>\n    </tr>\n    <tr>\n      <th>1961</th>\n      <td>AS14.33</td>\n      <td>19</td>\n    </tr>\n    <tr>\n      <th>1963</th>\n      <td>AS14.33</td>\n      <td>20</td>\n    </tr>\n  </tbody>\n</table>\n<p>1973 rows × 2 columns</p>\n</div>"
     },
     "execution_count": 23,
     "metadata": {},
     "output_type": "execute_result"
    }
   ],
   "source": [
    "data_df[['id', 'period']]"
   ],
   "metadata": {
    "collapsed": false,
    "ExecuteTime": {
     "end_time": "2024-04-21T09:24:53.819239Z",
     "start_time": "2024-04-21T09:24:53.787012Z"
    }
   },
   "id": "541189052e160048",
   "execution_count": 23
  },
  {
   "cell_type": "code",
   "outputs": [
    {
     "name": "stdout",
     "output_type": "stream",
     "text": [
      "          id  period       screen  call  sms  appCat.builtin  \\\n",
      "0    AS14.01       0     0.000000  12.0  6.0           0.000   \n",
      "1    AS14.01       1     0.000000  10.0  3.0           0.000   \n",
      "2    AS14.01       2     0.000000   8.0  1.0           0.000   \n",
      "3    AS14.01       3     0.000000  18.0  2.0           0.000   \n",
      "4    AS14.01       4     0.000000   2.0  7.0           0.000   \n",
      "..       ...     ...          ...   ...  ...             ...   \n",
      "400  AS14.33      16  6941.189998   9.0  2.0        2614.790   \n",
      "401  AS14.33      17  5778.654001  13.0  1.0        1619.139   \n",
      "402  AS14.33      18  7786.173998   9.0  2.0        2007.933   \n",
      "403  AS14.33      19  9933.320998  30.0  7.0        3109.109   \n",
      "404  AS14.33      20     0.000000   0.0  0.0           0.000   \n",
      "\n",
      "     appCat.communication  appCat.entertainment  appCat.finance  appCat.game  \\\n",
      "0                   0.000                 0.000             0.0          0.0   \n",
      "1                   0.000                 0.000             0.0          0.0   \n",
      "2                   0.000                 0.000             0.0          0.0   \n",
      "3                   0.000                 0.000             0.0          0.0   \n",
      "4                   0.000                 0.000             0.0          0.0   \n",
      "..                    ...                   ...             ...          ...   \n",
      "400              3707.217               395.409             0.0          0.0   \n",
      "401              1581.079               304.165             0.0          0.0   \n",
      "402              4231.449               105.806             0.0          0.0   \n",
      "403              3769.754               291.417             0.0          0.0   \n",
      "404                 0.000                 0.000             0.0          0.0   \n",
      "\n",
      "     ...  appCat.social  appCat.travel  appCat.unknown  appCat.utilities  \\\n",
      "0    ...          0.000          0.000           0.000             0.000   \n",
      "1    ...          0.000          0.000           0.000             0.000   \n",
      "2    ...          0.000          0.000           0.000             0.000   \n",
      "3    ...          0.000          0.000           0.000             0.000   \n",
      "4    ...          0.000          0.000           0.000             0.000   \n",
      "..   ...            ...            ...             ...               ...   \n",
      "400  ...       8214.567        237.870           2.007            64.356   \n",
      "401  ...       8279.359          0.000           2.010            40.459   \n",
      "402  ...       8424.229          0.000           0.000           105.820   \n",
      "403  ...       6661.909        916.653           8.072           245.960   \n",
      "404  ...          0.000          0.000           0.000             0.000   \n",
      "\n",
      "     appCat.weather  circumplex.arousal  circumplex.valence  activity  \\\n",
      "0               0.0           -1.000000            0.000000  0.071429   \n",
      "1               0.0           -0.228571            0.438095  0.071429   \n",
      "2               0.0            1.000000            1.000000  0.071429   \n",
      "3               0.0            1.000000            1.000000  0.071429   \n",
      "4               0.0            1.000000            1.000000  0.071429   \n",
      "..              ...                 ...                 ...       ...   \n",
      "400             0.0           -0.189519            0.383177  0.105005   \n",
      "401             0.0           -0.268950            0.344988  0.075447   \n",
      "402             0.0           -0.615803           -0.032416  0.080745   \n",
      "403             0.0           -0.321398            0.465207  0.205388   \n",
      "404             0.0           -2.000000            1.000000  0.375000   \n",
      "\n",
      "     average_mood  mood  \n",
      "0             6.0   6.0  \n",
      "1             6.2   7.0  \n",
      "2             7.0   7.0  \n",
      "3             7.0   7.0  \n",
      "4             7.0   7.0  \n",
      "..            ...   ...  \n",
      "400           6.2   7.0  \n",
      "401           6.2   7.0  \n",
      "402           6.0   5.0  \n",
      "403           6.6   7.0  \n",
      "404           7.0   NaN  \n",
      "\n",
      "[405 rows x 22 columns]\n"
     ]
    }
   ],
   "source": [
    "# Define aggregation functions\n",
    "aggregations = {\n",
    "    **{col: 'sum' for col in sum_cols},\n",
    "    **{col: 'mean' for col in mean_cols},\n",
    "#    **{col: 'max' for col in max_cols}\n",
    "}\n",
    "\n",
    "# Group by 'id' and 'period' and aggregate\n",
    "aggregated_df = data_df.groupby(['id', 'period']).agg(aggregations).reset_index()\n",
    "\n",
    "# Rename the median mood column\n",
    "aggregated_df.rename(columns={'mood': 'average_mood'}, inplace=True)\n",
    "\n",
    "# Function to fetch the mood of the next available day after the last day of each period\n",
    "def get_next_available_day_mood(row, original_df):\n",
    "    last_date_of_period = original_df[(original_df['id'] == row['id']) & (original_df['period'] == row['period'])]['date'].max()\n",
    "    next_available_days = original_df[(original_df['id'] == row['id']) & (original_df['date'] > last_date_of_period)]\n",
    "    if not next_available_days.empty:\n",
    "        return next_available_days.iloc[0]['mood']  # Mood of the next available day\n",
    "    return np.nan  # Return NaN if no data available after the last date of the period\n",
    "\n",
    "# Apply the function to fetch the next available day's mood\n",
    "aggregated_df['mood'] = aggregated_df.apply(get_next_available_day_mood, axis=1, original_df=data_df)\n",
    "\n",
    "print(aggregated_df)"
   ],
   "metadata": {
    "collapsed": false,
    "ExecuteTime": {
     "end_time": "2024-04-21T09:32:26.955448Z",
     "start_time": "2024-04-21T09:32:26.579943Z"
    }
   },
   "id": "cc0e5936603a2602",
   "execution_count": 30
  },
  {
   "cell_type": "code",
   "outputs": [
    {
     "name": "stdout",
     "output_type": "stream",
     "text": [
      "(405, 22)\n"
     ]
    },
    {
     "data": {
      "text/plain": "(378, 22)"
     },
     "execution_count": 45,
     "metadata": {},
     "output_type": "execute_result"
    }
   ],
   "source": [
    "# drop rows with nan in mood\n",
    "print(aggregated_df.shape)\n",
    "aggregated_df.dropna(subset=['mood'], inplace=True)\n",
    "aggregated_df.shape"
   ],
   "metadata": {
    "collapsed": false,
    "ExecuteTime": {
     "end_time": "2024-04-21T09:36:26.936986Z",
     "start_time": "2024-04-21T09:36:26.901461Z"
    }
   },
   "id": "a4a204dcc6996db2",
   "execution_count": 45
  },
  {
   "cell_type": "code",
   "outputs": [
    {
     "data": {
      "text/plain": "Empty DataFrame\nColumns: [id, period, screen, call, sms, appCat.builtin, appCat.communication, appCat.entertainment, appCat.finance, appCat.game, appCat.office, appCat.other, appCat.social, appCat.travel, appCat.unknown, appCat.utilities, appCat.weather, circumplex.arousal, circumplex.valence, activity, average_mood, mood]\nIndex: []\n\n[0 rows x 22 columns]",
      "text/html": "<div>\n<style scoped>\n    .dataframe tbody tr th:only-of-type {\n        vertical-align: middle;\n    }\n\n    .dataframe tbody tr th {\n        vertical-align: top;\n    }\n\n    .dataframe thead th {\n        text-align: right;\n    }\n</style>\n<table border=\"1\" class=\"dataframe\">\n  <thead>\n    <tr style=\"text-align: right;\">\n      <th></th>\n      <th>id</th>\n      <th>period</th>\n      <th>screen</th>\n      <th>call</th>\n      <th>sms</th>\n      <th>appCat.builtin</th>\n      <th>appCat.communication</th>\n      <th>appCat.entertainment</th>\n      <th>appCat.finance</th>\n      <th>appCat.game</th>\n      <th>...</th>\n      <th>appCat.social</th>\n      <th>appCat.travel</th>\n      <th>appCat.unknown</th>\n      <th>appCat.utilities</th>\n      <th>appCat.weather</th>\n      <th>circumplex.arousal</th>\n      <th>circumplex.valence</th>\n      <th>activity</th>\n      <th>average_mood</th>\n      <th>mood</th>\n    </tr>\n  </thead>\n  <tbody>\n  </tbody>\n</table>\n<p>0 rows × 22 columns</p>\n</div>"
     },
     "execution_count": 46,
     "metadata": {},
     "output_type": "execute_result"
    }
   ],
   "source": [
    "# print rows with nan\n",
    "aggregated_df[aggregated_df.isnull().any(axis=1)]"
   ],
   "metadata": {
    "collapsed": false,
    "ExecuteTime": {
     "end_time": "2024-04-21T09:36:49.972491Z",
     "start_time": "2024-04-21T09:36:49.936054Z"
    }
   },
   "id": "53f69b9baa7d76d1",
   "execution_count": 46
  },
  {
   "cell_type": "markdown",
   "source": [],
   "metadata": {
    "collapsed": false
   },
   "id": "d49f81c50332ff3e"
  },
  {
   "cell_type": "code",
   "outputs": [],
   "source": [
    "aggregated_df.to_csv('datasets/mood_preprocessed_aggr_per_5_days_svm.csv', index=False)"
   ],
   "metadata": {
    "collapsed": false,
    "ExecuteTime": {
     "end_time": "2024-04-21T09:36:55.789039Z",
     "start_time": "2024-04-21T09:36:55.754779Z"
    }
   },
   "id": "225bcd72c85ae5a0",
   "execution_count": 47
  },
  {
   "cell_type": "code",
   "outputs": [],
   "source": [],
   "metadata": {
    "collapsed": false
   },
   "id": "fb117c465e3dd441"
  }
 ],
 "metadata": {
  "kernelspec": {
   "name": "dmt1",
   "language": "python",
   "display_name": "dmt-ass1"
  },
  "language_info": {
   "codemirror_mode": {
    "name": "ipython",
    "version": 2
   },
   "file_extension": ".py",
   "mimetype": "text/x-python",
   "name": "python",
   "nbconvert_exporter": "python",
   "pygments_lexer": "ipython2",
   "version": "2.7.6"
  }
 },
 "nbformat": 4,
 "nbformat_minor": 5
}
